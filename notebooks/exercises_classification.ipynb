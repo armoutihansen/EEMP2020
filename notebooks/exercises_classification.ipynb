{
  "nbformat": 4,
  "nbformat_minor": 0,
  "metadata": {
    "colab": {
      "name": "ex2.ipynb",
      "provenance": [],
      "collapsed_sections": []
    },
    "kernelspec": {
      "name": "python3",
      "display_name": "Python 3"
    }
  },
  "cells": [
    {
      "cell_type": "code",
      "metadata": {
        "id": "f5Mw_KjH8Oxg"
      },
      "source": [
        "# Solution 1\n",
        "import matplotlib.pyplot as plt\n",
        "import numpy as np\n",
        "import pandas as pd\n",
        "import seaborn as sns\n",
        "\n",
        "path_to_data = 'https://raw.githubusercontent.com/armoutihansen/EEMP2020/main/datasets/Default.csv'\n",
        "\n",
        "df = pd.read_csv(path_to_data)"
      ],
      "execution_count": null,
      "outputs": []
    },
    {
      "cell_type": "code",
      "metadata": {
        "id": "XIzp6we78SyW",
        "colab": {
          "base_uri": "https://localhost:8080/"
        },
        "outputId": "8c55af0d-5579-4f50-e96e-6baec00245ac"
      },
      "source": [
        "# Solution 2\n",
        "df_sample = df.sample(n=1000, random_state=181)\n",
        "X = df_sample[['income', 'balance']]\n",
        "y = df_sample['default']\n",
        "\n",
        "from sklearn.linear_model import LogisticRegression\n",
        "from sklearn.metrics import accuracy_score\n",
        "from sklearn.metrics import confusion_matrix\n",
        "\n",
        "log = LogisticRegression().fit(X,y)\n",
        "pred = log.predict(X)\n",
        "print(accuracy_score(pred,y))\n",
        "print(confusion_matrix(pred,y))\n",
        "print('TPR = ', 0/36)\n",
        "print('FNR = ', 36/36)"
      ],
      "execution_count": null,
      "outputs": [
        {
          "output_type": "stream",
          "text": [
            "0.964\n",
            "[[964  36]\n",
            " [  0   0]]\n",
            "TPR =  0.0\n",
            "FNR =  1.0\n"
          ],
          "name": "stdout"
        }
      ]
    },
    {
      "cell_type": "code",
      "metadata": {
        "id": "wunKTmqx84ix",
        "colab": {
          "base_uri": "https://localhost:8080/"
        },
        "outputId": "863d400f-d2f2-4cb0-c04c-28cce9fa6549"
      },
      "source": [
        "# Solution 3\n",
        "from sklearn.neighbors import KNeighborsClassifier\n",
        "accs = []\n",
        "for i in range(1,21):\n",
        "  knn = KNeighborsClassifier(n_neighbors=i).fit(X,y)\n",
        "  pred = knn.predict(X)\n",
        "  accs.append(accuracy_score(pred,y))\n",
        "print(np.argmax(accs)+1)\n",
        "print(accs[0])"
      ],
      "execution_count": null,
      "outputs": [
        {
          "output_type": "stream",
          "text": [
            "1\n",
            "1.0\n"
          ],
          "name": "stdout"
        }
      ]
    },
    {
      "cell_type": "code",
      "metadata": {
        "id": "1YZ2nV1M-2Q1",
        "colab": {
          "base_uri": "https://localhost:8080/"
        },
        "outputId": "1998db46-e372-4b3d-8f64-9b08472023d9"
      },
      "source": [
        "# Solution 4\n",
        "knn = KNeighborsClassifier(n_neighbors=1).fit(X,y)\n",
        "pred_knn = knn.predict(df[['income', 'balance']])\n",
        "pred_log = log.predict(df[['income', 'balance']])\n",
        "print('KNN: ', accuracy_score(pred_knn, df['default']))\n",
        "print('Log: ', accuracy_score(pred_log, df['default']))"
      ],
      "execution_count": null,
      "outputs": [
        {
          "output_type": "stream",
          "text": [
            "KNN:  0.959\n",
            "Log:  0.9656\n"
          ],
          "name": "stdout"
        }
      ]
    },
    {
      "cell_type": "code",
      "metadata": {
        "id": "drqAmO1z_XYC",
        "colab": {
          "base_uri": "https://localhost:8080/"
        },
        "outputId": "73fc895f-7e7a-49e8-ff0c-7198a7458f13"
      },
      "source": [
        "# Solution 5\n",
        "df['default'].describe()"
      ],
      "execution_count": null,
      "outputs": [
        {
          "output_type": "execute_result",
          "data": {
            "text/plain": [
              "count     10000\n",
              "unique        2\n",
              "top          No\n",
              "freq       9667\n",
              "Name: default, dtype: object"
            ]
          },
          "metadata": {
            "tags": []
          },
          "execution_count": 14
        }
      ]
    },
    {
      "cell_type": "code",
      "metadata": {
        "id": "_owjazbu_nK4",
        "colab": {
          "base_uri": "https://localhost:8080/"
        },
        "outputId": "12b9eedc-ab99-4249-90a8-1294b9854a52"
      },
      "source": [
        "# \"Dummy\" classifier:\n",
        "print(9667/10000)"
      ],
      "execution_count": null,
      "outputs": [
        {
          "output_type": "stream",
          "text": [
            "0.9667\n"
          ],
          "name": "stdout"
        }
      ]
    },
    {
      "cell_type": "code",
      "metadata": {
        "id": "kBOIo8Eoi_mr"
      },
      "source": [
        ""
      ],
      "execution_count": null,
      "outputs": []
    }
  ]
}