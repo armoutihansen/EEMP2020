{
  "nbformat": 4,
  "nbformat_minor": 0,
  "metadata": {
    "kernelspec": {
      "display_name": "Python 3",
      "language": "python",
      "name": "python3"
    },
    "language_info": {
      "codemirror_mode": {
        "name": "ipython",
        "version": 3
      },
      "file_extension": ".py",
      "mimetype": "text/x-python",
      "name": "python",
      "nbconvert_exporter": "python",
      "pygments_lexer": "ipython3",
      "version": "3.7.3"
    },
    "colab": {
      "name": "SalesSim2.ipynb",
      "provenance": [],
      "collapsed_sections": [],
      "include_colab_link": true
    }
  },
  "cells": [
    {
      "cell_type": "markdown",
      "metadata": {
        "id": "view-in-github",
        "colab_type": "text"
      },
      "source": [
        "<a href=\"https://colab.research.google.com/github/armoutihansen/EEMP2020/blob/main/SalesSim2.ipynb\" target=\"_parent\"><img src=\"https://colab.research.google.com/assets/colab-badge.svg\" alt=\"Open In Colab\"/></a>"
      ]
    },
    {
      "cell_type": "code",
      "metadata": {
        "id": "1c4_5dQcLb5I",
        "colab": {
          "base_uri": "https://localhost:8080/"
        },
        "outputId": "64ccdcee-3d69-431d-c0e7-73cf73c2636b"
      },
      "source": [
        "import pandas as pd\n",
        "import numpy as np\n",
        "import statsmodels.api as sm\n",
        "import statsmodels.formula.api as smf\n",
        "import seaborn as sns\n",
        "from statsmodels.iolib.summary2 import summary_col"
      ],
      "execution_count": 1,
      "outputs": [
        {
          "output_type": "stream",
          "text": [
            "/usr/local/lib/python3.6/dist-packages/statsmodels/tools/_testing.py:19: FutureWarning: pandas.util.testing is deprecated. Use the functions in the public API at pandas.testing instead.\n",
            "  import pandas.util.testing as tm\n"
          ],
          "name": "stderr"
        }
      ]
    },
    {
      "cell_type": "code",
      "metadata": {
        "id": "AeD6sVPfLb5N"
      },
      "source": [
        "n=10000\n",
        "df=pd.DataFrame(index=range(n))\n",
        "df['ability']=np.random.normal(100,15,n)\n",
        "df['training']=(df.ability+ np.random.normal(0,10,n)>=100)\n",
        "df['sales']=10000+df.training*5000+df.ability*100+np.random.normal(0,4000,n)\n",
        "df['training2']= np.random.binomial(1,0.05,n)\n",
        "df['sales']=df.sales+df.training2*5000\n"
      ],
      "execution_count": 2,
      "outputs": []
    },
    {
      "cell_type": "code",
      "metadata": {
        "id": "zhPky3SmLb5R",
        "colab": {
          "base_uri": "https://localhost:8080/"
        },
        "outputId": "fb276049-597d-4749-8279-b061cba035e1"
      },
      "source": [
        "reg=smf.ols('sales ~ training + training2', data=df).fit()\n",
        "print(reg.summary())"
      ],
      "execution_count": 3,
      "outputs": [
        {
          "output_type": "stream",
          "text": [
            "                            OLS Regression Results                            \n",
            "==============================================================================\n",
            "Dep. Variable:                  sales   R-squared:                       0.443\n",
            "Model:                            OLS   Adj. R-squared:                  0.443\n",
            "Method:                 Least Squares   F-statistic:                     3969.\n",
            "Date:                Mon, 07 Dec 2020   Prob (F-statistic):               0.00\n",
            "Time:                        10:26:24   Log-Likelihood:                -97481.\n",
            "No. Observations:               10000   AIC:                         1.950e+05\n",
            "Df Residuals:                    9997   BIC:                         1.950e+05\n",
            "Df Model:                           2                                         \n",
            "Covariance Type:            nonrobust                                         \n",
            "====================================================================================\n",
            "                       coef    std err          t      P>|t|      [0.025      0.975]\n",
            "------------------------------------------------------------------------------------\n",
            "Intercept         1.897e+04     59.319    319.777      0.000    1.89e+04    1.91e+04\n",
            "training[T.True]  7023.7160     82.875     84.751      0.000    6861.265    7186.167\n",
            "training2         5078.9969    188.005     27.015      0.000    4710.470    5447.524\n",
            "==============================================================================\n",
            "Omnibus:                        0.256   Durbin-Watson:                   1.977\n",
            "Prob(Omnibus):                  0.880   Jarque-Bera (JB):                0.254\n",
            "Skew:                           0.012   Prob(JB):                        0.881\n",
            "Kurtosis:                       3.000   Cond. No.                         5.20\n",
            "==============================================================================\n",
            "\n",
            "Warnings:\n",
            "[1] Standard Errors assume that the covariance matrix of the errors is correctly specified.\n"
          ],
          "name": "stdout"
        }
      ]
    }
  ]
}
