{
  "nbformat": 4,
  "nbformat_minor": 0,
  "metadata": {
    "celltoolbar": "Raw Cell Format",
    "kernelspec": {
      "argv": [
        "python",
        "-m",
        "ipykernel_launcher",
        "-f",
        "{connection_file}"
      ],
      "display_name": "Python 3",
      "env": null,
      "interrupt_mode": "signal",
      "language": "python",
      "metadata": null,
      "name": "python3"
    },
    "language_info": {
      "codemirror_mode": {
        "name": "ipython",
        "version": 3
      },
      "file_extension": ".py",
      "mimetype": "text/x-python",
      "name": "python",
      "nbconvert_exporter": "python",
      "pygments_lexer": "ipython3",
      "version": "3.8.6"
    },
    "name": "EEMP_python_intro.ipynb",
    "colab": {
      "name": "EEMP_python_intro.ipynb",
      "provenance": []
    }
  },
  "cells": [
    {
      "cell_type": "markdown",
      "metadata": {
        "collapsed": false,
        "id": "FdLdicdtpX1y"
      },
      "source": [
        "# EEMP - Introduction to Python for Data Analysis\n",
        "\n",
        "- Introduction to working with python for data analysis\n",
        "- Goals:\n",
        "    - Overview of basic data structures and commands in python\n",
        "    - Essential toolkit for data analysis in python, giving you a background in packages needed\n",
        "    - By no means exhaustive, but should enable you to continue learning by yourself\n",
        "- More commands will be introduced and practiced throughout the course"
      ]
    },
    {
      "cell_type": "markdown",
      "metadata": {
        "collapsed": false,
        "id": "43nsTgPvpX1z"
      },
      "source": [
        "# Organizational issues\n",
        "\n",
        "- all material can be found in the course page:\n",
        "\n",
        "    https://github.com/armoutihansen/EEMP2020"
      ]
    },
    {
      "cell_type": "markdown",
      "metadata": {
        "collapsed": false,
        "id": "QSZSZzPhpX10"
      },
      "source": [
        "*Let's set the scene for working with python and notebooks:*\n",
        "\n",
        "### If using Google Colab (recommended):\n",
        "- Most packages are installed out of the box.\n",
        "    - If you come access a package, say sklearn, not installed, just run \"!pip install sklearn\" in a code cell.\n",
        "\n",
        "\n",
        "### If using Anaconda locally:\n",
        "- **Step 1:** install a python distribution and the respective packages\n",
        "\n",
        "     - install Anaconda https://www.anaconda.com/\n",
        "     - install the required packages (in this order): numpy, pandas, statsmodels, matplotlib, seaborn, scikit-learn\n",
        "            - open Anaconda/Environments -> check whether respective packages already installed, if not install\n",
        "            - command line: conda install -c anaconda numpy pandas statsmodels seaborn scikit-learn\n",
        "                        \n",
        "                        .. check installed packages with:\n",
        "                        conda list\n",
        "                      \n",
        "- **Step 2:** open a jupyter notebook\n",
        "\n",
        "     - with Anaconda\n",
        "     - command line: jupyter notebook"
      ]
    },
    {
      "cell_type": "markdown",
      "metadata": {
        "collapsed": false,
        "id": "15UkEX63pX11"
      },
      "source": [
        "---\n",
        "## Short Introduction to notebooks\n",
        "\n",
        "- works with your browser of choice (chrome, firefox, safari)\n",
        "- interactive computing environment\n",
        "- great tool to create and share documents that combine live code, visualizations, equations, text, images, videos etc.\n",
        "- allows to work interactively\n",
        "\n",
        "### Basics\n",
        " - markdown cell for narrative text, LaTex style formulas, weblinks, pictures etc.\n",
        " - code cell\n",
        "     - chosen kernel defines active programming language (don't worry about this, we will only be using the Python kernel)\n",
        "     \n",
        " -. Check keyboard shortcuts (Tools -> Command palette)\n",
        "\n",
        "---"
      ]
    },
    {
      "cell_type": "markdown",
      "metadata": {
        "collapsed": false,
        "id": "udW3p4rupX13"
      },
      "source": [
        "*Let's get started with Python...*"
      ]
    },
    {
      "cell_type": "markdown",
      "metadata": {
        "collapsed": false,
        "id": "Zrmds0E2pX15"
      },
      "source": [
        "## 1. Datatypes and Operators\n",
        "\n",
        "### Datatypes:\n",
        "\n",
        "- Integers\n",
        "- Floats (decimal number)\n",
        "- Strings (\"text\")\n",
        "- Booleans (TRUE/FALSE)"
      ]
    },
    {
      "cell_type": "code",
      "metadata": {
        "id": "6wyXdMMCpX17"
      },
      "source": [
        "# integer\n",
        "a = 10\n",
        "b = 4\n",
        "\n",
        "print(a)\n",
        "print(type(a))\n",
        "(a+b)*3"
      ],
      "execution_count": null,
      "outputs": []
    },
    {
      "cell_type": "code",
      "metadata": {
        "id": "HucH1Vk6pX2A"
      },
      "source": [
        "# want to know more about a function and how to use it? - use the help() function or internet search\n",
        "help(print)"
      ],
      "execution_count": null,
      "outputs": []
    },
    {
      "cell_type": "code",
      "metadata": {
        "id": "4buj_l99pX2F"
      },
      "source": [
        "# floats\n",
        "c = 1.5\n",
        "d = 28.0\n",
        "\n",
        "print(type(d))\n",
        "c*d"
      ],
      "execution_count": null,
      "outputs": []
    },
    {
      "cell_type": "code",
      "metadata": {
        "id": "WuUe9nzMpX2O"
      },
      "source": [
        "# strings\n",
        "\n",
        "question = \"What is the answer to life, to the universe and everything?\" # either denote with \"\"\n",
        "answer = 42 # .. or ''\n",
        "\n",
        "print(type(question))\n",
        "\n",
        "question_answer= question + str(answer) # strings can be added too!\n",
        "\n",
        "print(question_answer)\n",
        "\n",
        "print(question,\" - \", answer)\n",
        "print(question + ' - ' + str(answer))"
      ],
      "execution_count": null,
      "outputs": []
    },
    {
      "cell_type": "code",
      "metadata": {
        "id": "kGq5L7ZupX2R"
      },
      "source": [
        "# Booleans and True/False - Operators\n",
        "\n",
        "\n",
        "print(True==1) # True is encoded as 1\n",
        "print(False==1) # False is encoded as 0\n",
        "\n",
        "print(not True) # we can inverse a boolean with \"not\"\n",
        "print(True + True) # We can also add booleans"
      ],
      "execution_count": null,
      "outputs": []
    },
    {
      "cell_type": "code",
      "metadata": {
        "id": "n-s-b3TWpX2W"
      },
      "source": [
        "# we can evaluate the truth of a statement with the different operators ==,!=,>,<,>=,<=, no\n",
        "# -> the output is always a boolean\n",
        "\n",
        "print(True > False)\n",
        "print(answer == '42')\n",
        "print(4 >= 5)\n",
        "print(10 != 0)"
      ],
      "execution_count": null,
      "outputs": []
    },
    {
      "cell_type": "code",
      "metadata": {
        "id": "5iF55ri8pX2f"
      },
      "source": [
        "# If-statements can be used to execute code only if a certain condition is fulfilled\n",
        "\n",
        "answer = '42'\n",
        "\n",
        "# identation after if-condition needed (convention is to indent with 4 spaces)\n",
        "if answer == \"42\":\n",
        "    print(\"This is the answer to life, to the universe and everything.\")"
      ],
      "execution_count": null,
      "outputs": []
    },
    {
      "cell_type": "markdown",
      "metadata": {
        "collapsed": false,
        "id": "nvEK6WIlpX2i"
      },
      "source": [
        "## 2. Python Lists\n",
        "\n",
        "- Standard mutable multi-element container in Python\n",
        "- Denoted by squared brackets [ ]"
      ]
    },
    {
      "cell_type": "code",
      "metadata": {
        "id": "ShAtbBHmpX2i"
      },
      "source": [
        "# Python lists can contain integers...\n",
        "\n",
        "l1 = list(range(10))\n",
        "print(l1, type(l1[0]))\n",
        "\n",
        "# ...strings\n",
        "\n",
        "l2 = list(str(i) for i in l1)\n",
        "print(l2, type(l2[0]))\n",
        "\n",
        "\n",
        "# ... or a combination of different data types.\n",
        "\n",
        "l3 = [1.2,42,'Yes',True]\n",
        "print(l3)\n",
        "print([type(i) for i in l3])"
      ],
      "execution_count": null,
      "outputs": []
    },
    {
      "cell_type": "code",
      "metadata": {
        "id": "ylgDGk43pX2m"
      },
      "source": [
        "# one can also access the different elements within a list with calling its index\n",
        "\n",
        "print(l1[0]) # Python is a zero-indexed language, i.e. this would give you the first element of the list\n",
        "print(l2[-1]) # one can also access the list from the end, i.e. this would give you the last element of the list\n",
        "print(l2[-2]) # ... this the second last element\n",
        "\n",
        "print(l3[0:3]) # or slice the list and extract only a certain range"
      ],
      "execution_count": null,
      "outputs": []
    },
    {
      "cell_type": "markdown",
      "metadata": {
        "collapsed": false,
        "id": "Phxk8on3pX2r"
      },
      "source": [
        "## 3. Loops\n",
        "\n",
        "- We can loop over values in a list"
      ]
    },
    {
      "cell_type": "code",
      "metadata": {
        "id": "3HLj0eHepX2r"
      },
      "source": [
        "even_number = list(range(0,10,2)) # check help(range) to find out about the options within the function\n",
        "\n",
        "print(even_number)\n",
        "\n",
        "result = 0\n",
        "for number in even_number:\n",
        "    result += number # this is the inplace version of reassigning result = result + number, the outcome is identical\n",
        "    print(result)"
      ],
      "execution_count": null,
      "outputs": []
    },
    {
      "cell_type": "markdown",
      "metadata": {
        "collapsed": false,
        "id": "hqn-W_eIpX2u"
      },
      "source": [
        "## 4. Functions \n",
        "\n",
        "- Python is also suitable for writing functions\n",
        "- Very good for operations that are done repeatedly, but have no built-in functions\n",
        "- However, whenever there are built-in functions always use those; they are usually computationally more efficient\n",
        "- We will give you a short idea of what a function means and how it looks like, but writing functions is not the focus of the course"
      ]
    },
    {
      "cell_type": "code",
      "metadata": {
        "id": "iwlqgtgtpX2v"
      },
      "source": [
        "def f(x):\n",
        "    '''This function squares its numerical input'''\n",
        "    return x**2"
      ],
      "execution_count": null,
      "outputs": []
    },
    {
      "cell_type": "code",
      "metadata": {
        "id": "7s1ojIkIpX21"
      },
      "source": [
        "f(3)"
      ],
      "execution_count": null,
      "outputs": []
    },
    {
      "cell_type": "markdown",
      "metadata": {
        "collapsed": false,
        "id": "J91mh8PypX27"
      },
      "source": [
        "## 5. Libraries "
      ]
    },
    {
      "cell_type": "markdown",
      "metadata": {
        "collapsed": false,
        "id": "RR7kYosMpX27"
      },
      "source": [
        "### 5.1 NumPy Library \n",
        "\n",
        "*Provides numeric vector and matrix operations*\n",
        "\n",
        "- NumPy's \"ndarray\" is another of the basic formats data can be stored in\n",
        "- Similar to python built-in lists (see 2.), but lack its multi-type flexibility, i.e. can only contain one data type\n",
        "- However, in contrast to lists, ndarrays are more efficient in storing and manipulating data, which is important as data become bigger\n",
        "- Building blocks for many other packages (see 5.2)"
      ]
    },
    {
      "cell_type": "code",
      "metadata": {
        "id": "wdxHS9ggpX28"
      },
      "source": [
        "# Before we can use a package the first time, we need to import it (given we have it already installed)\n",
        "# the \"as np\" indicates the alias we can use to call the package from now on\n",
        "import numpy as np"
      ],
      "execution_count": null,
      "outputs": []
    },
    {
      "cell_type": "code",
      "metadata": {
        "id": "iASTLLErpX3C"
      },
      "source": [
        "# ndarrays\n",
        "array1 = np.array([0,1,5,15,2])\n",
        "print(array1)\n",
        "\n",
        "array2 = np.arange(5)\n",
        "print(array2)\n",
        "\n",
        "array3 = array1 + array2 # ndarrays can also be added to each other\n",
        "print(array3)"
      ],
      "execution_count": null,
      "outputs": []
    },
    {
      "cell_type": "code",
      "metadata": {
        "id": "eOBp5LSPpX3H"
      },
      "source": [
        "# we can also build matrices from ndarrays\n",
        "\n",
        "matrix1 = np.array([[1,0],[0,1]])\n",
        "print(matrix1)\n",
        "\n",
        "matrix2 = np.array([array1, array2])\n",
        "print(matrix2)\n",
        "\n",
        "matrix3 = matrix2 + array1\n",
        "print(matrix3)"
      ],
      "execution_count": null,
      "outputs": []
    },
    {
      "cell_type": "code",
      "metadata": {
        "id": "aXkeItJmpX3M"
      },
      "source": [
        "# and then work with these arrays and matrices using numpy methods and functions\n",
        "\n",
        "matrix2_t = matrix2.transpose()\n",
        "print(matrix2_t)\n",
        "print(np.shape(matrix2_t)) # gives you a 5x3 matrix from the original 3x5 matrix"
      ],
      "execution_count": null,
      "outputs": []
    },
    {
      "cell_type": "code",
      "metadata": {
        "id": "unDY8jPvpX3R"
      },
      "source": [
        "# as with lists you can access elements within an array in a similar fashion\n",
        "\n",
        "print(array1[0:4:2]) # slicing scheme: array[start:stop:step]\n",
        "\n",
        "print(matrix2_t[2,1]) # takes only the index 2 row- and index 1 column-element\n",
        "print(matrix2_t[0:2,0:2], np.shape(matrix2_t[0:2,0:2])) # gives you a 2x2 matrix from the 5x3 original matrix"
      ],
      "execution_count": null,
      "outputs": []
    },
    {
      "cell_type": "markdown",
      "metadata": {
        "collapsed": false,
        "id": "0_W5qF4gpX3U"
      },
      "source": [
        "### 5.2 Pandas Library\n",
        "*Provides the DataFrame, which is the building block for working with data*\n",
        "\n",
        "- Newer package built on top of NumPy\n",
        "- A Series is the Pandas equivalent to a NumPy array\n",
        "    - However, Series (and DataFrames) have explicitly defined row (and column) labels attached as compared to implicitly defined simple integer indices in NumPy\n",
        "- A DataFrame is a 2-dimensional multi-array data structure, i.e. consist of multiple series\n",
        "- Often contain heterogenous types and/or missing values"
      ]
    },
    {
      "cell_type": "code",
      "metadata": {
        "scrolled": true,
        "id": "f3Qkwg97pX3U"
      },
      "source": [
        "# Again, we have to import the package first...\n",
        "import pandas as pd"
      ],
      "execution_count": null,
      "outputs": []
    },
    {
      "cell_type": "code",
      "metadata": {
        "id": "wIcbEP3_pX3X"
      },
      "source": [
        "# A series is a one-dimensional array of indexed data\n",
        "\n",
        "series1 = pd.Series([0,2,4,6])\n",
        "\n",
        "print(series1)\n",
        "\n",
        "print(series1.values) # can access the values within a Series\n",
        "\n",
        "print(series1.index) # can access the respective indices of a Series"
      ],
      "execution_count": null,
      "outputs": []
    },
    {
      "cell_type": "code",
      "metadata": {
        "id": "PtadWz-HpX3Z"
      },
      "source": [
        "# However, indices don't need to be numerical, but could also be strings...\n",
        "\n",
        "series2 = pd.Series([1,3,6], index=['a','b','c'])\n",
        "\n",
        "print(series2)"
      ],
      "execution_count": null,
      "outputs": []
    },
    {
      "cell_type": "code",
      "metadata": {
        "id": "KQMKYV-8ukm_"
      },
      "source": [
        "# Clone the repo!\n",
        "!git clone https://github.com/armoutihansen/EEMP2020\n",
        "\n",
        "# Note: If the repo is update and you want the newest version, run:\n",
        "#!cd EEMP2020 && git pull"
      ],
      "execution_count": null,
      "outputs": []
    },
    {
      "cell_type": "code",
      "metadata": {
        "scrolled": true,
        "id": "AOiHaCcJpX3c"
      },
      "source": [
        "# Now, let's read in an actual dataset with several columns and numerous rows, and start working with DataFrames...\n",
        "\n",
        "path_to_data = \"./EEMP2020/datasets/Employee_data.csv\"\n",
        "\n",
        "employee_data = pd.read_csv(path_to_data)\n",
        "\n",
        "# We can inspect the data by looking at the first few rows\n",
        "\n",
        "employee_data.head() # by default this gives you the first 5 observations in the dataframe"
      ],
      "execution_count": null,
      "outputs": []
    },
    {
      "cell_type": "markdown",
      "metadata": {
        "collapsed": false,
        "id": "r5Ua4RMnpX3e"
      },
      "source": [
        "### Commands for exploratory data analysis (EDA)"
      ]
    },
    {
      "cell_type": "code",
      "metadata": {
        "id": "v06mR1HppX3e"
      },
      "source": [
        "# Shape of the dataframe in form of a tuple (#rows, #cols)\n",
        "\n",
        "employee_data.shape"
      ],
      "execution_count": null,
      "outputs": []
    },
    {
      "cell_type": "code",
      "metadata": {
        "id": "-Rn6qKzhpX3h"
      },
      "source": [
        "# Lists all column indeces\n",
        "\n",
        "employee_data.columns"
      ],
      "execution_count": null,
      "outputs": []
    },
    {
      "cell_type": "code",
      "metadata": {
        "id": "I4kPXk0KpX3k"
      },
      "source": [
        "# Overview of columns, non-null entries & datatypes\n",
        "\n",
        "employee_data.info() "
      ],
      "execution_count": null,
      "outputs": []
    },
    {
      "cell_type": "code",
      "metadata": {
        "id": "1PDY3uugpX3o"
      },
      "source": [
        "# Summary statistics of the dataset\n",
        "\n",
        "pd.set_option('display.max_columns', 200) # this command sets the number of displayes columns to 200\n",
        "\n",
        "employee_data.describe()"
      ],
      "execution_count": null,
      "outputs": []
    },
    {
      "cell_type": "code",
      "metadata": {
        "id": "6vVtLpr3pX3s"
      },
      "source": [
        "# To get an idea about the different values contained within a specific column, we can use the .unique() method\n",
        "# since unique takes the values in order of appearance, we use the sorted function on top of it\n",
        "# with [] and the respective column label, we can access this particular Series in the DataFrame\n",
        "\n",
        "print(sorted(employee_data['DistanceFromHome'].unique()))\n",
        "\n",
        "print(sorted(employee_data['WorkLifeBalance'].unique()))"
      ],
      "execution_count": null,
      "outputs": []
    },
    {
      "cell_type": "code",
      "metadata": {
        "id": "k3eJz-SnpX3u"
      },
      "source": [
        "# If we want to know more about the distribution of certain values or categories, we can use value_counts()\n",
        "\n",
        "print(employee_data['WorkLifeBalance'].value_counts()) # this would give the frequency counts in descending order\n",
        "\n",
        "print(employee_data['WorkLifeBalance'].value_counts(normalize=True)) # alternatively, we can show percentages"
      ],
      "execution_count": null,
      "outputs": []
    },
    {
      "cell_type": "code",
      "metadata": {
        "id": "wYVPkrL3pX3y"
      },
      "source": [
        "# We can also slice the data by indices (similar to how we did it with lists or NumPy arrays)\n",
        "\n",
        "employee_data.loc[0:100] # extract first 100 observations by referring to the explicitly defined index ..."
      ],
      "execution_count": null,
      "outputs": []
    },
    {
      "cell_type": "code",
      "metadata": {
        "id": "Qvrs84ejpX31"
      },
      "source": [
        "# .. which could also be a string, as in the case of the columns\n",
        "\n",
        "employee_data.loc[0:100,['MonthlyIncome','Department']]"
      ],
      "execution_count": null,
      "outputs": []
    },
    {
      "cell_type": "code",
      "metadata": {
        "id": "i6o6HJTJpX34"
      },
      "source": [
        "#  In contrast to iloc, which uses the implicitly defined row and column index\n",
        "\n",
        "employee_data.iloc[0:100,[4,18]] # sliced both row- and columnwise by implicit indeces"
      ],
      "execution_count": null,
      "outputs": []
    },
    {
      "cell_type": "code",
      "metadata": {
        "id": "cdxKWm3rpX36"
      },
      "source": [
        "# select subset of data with a condition and assign it to new dataframe\n",
        "\n",
        "exit_data = employee_data[employee_data['Attrition']=='Yes']\n",
        "\n",
        "# we can also subselect only certain columns to be shown\n",
        "\n",
        "print(exit_data[['MonthlyIncome','Department']].head(10))\n",
        "\n",
        "# ... or only select rows that fulfill a certain condition\n",
        "\n",
        "age_mon_inc = employee_data.loc[:,['Age','MonthlyIncome']]\n",
        "print(age_mon_inc)\n",
        "\n",
        "u35_mon_inc = employee_data.loc[employee_data['Age']<35,['Age','MonthlyIncome']]\n",
        "print(u35_mon_inc)"
      ],
      "execution_count": null,
      "outputs": []
    },
    {
      "cell_type": "markdown",
      "metadata": {
        "collapsed": false,
        "id": "NYWzWc8EpX39"
      },
      "source": [
        "### Descriptives statistics\n",
        "\n",
        "- Overview of pandas aggregation methods:\n",
        "<div>\n",
        "<img src=\"attachment:grafik.png\" width=\"250\"/>\n",
        "</div>"
      ]
    },
    {
      "cell_type": "code",
      "metadata": {
        "id": "84ZEE8aopX3-"
      },
      "source": [
        "# Distribution of exits across departments\n",
        "print(exit_data['Department'].value_counts(normalize=True))\n",
        "\n",
        "# Mean age of exits\n",
        "mean_age_exited = exit_data['Age'].mean()\n",
        "print(mean_age_exited)\n",
        "\n",
        "# Mean age of exits across departments\n",
        "mean_age_exited_by_dep = exit_data['Age'].groupby(exit_data['Department']).mean() # groupby allows for groupwise calculations\n",
        "print(mean_age_exited_by_dep)\n",
        "\n",
        "# Mean age across all employees\n",
        "mean_age = employee_data['Age'].mean()\n",
        "print(mean_age)"
      ],
      "execution_count": null,
      "outputs": []
    },
    {
      "cell_type": "code",
      "metadata": {
        "id": "Za2j0VfspX4A"
      },
      "source": [
        "# Creating new variables\n",
        "\n",
        "employee_data['dummy_exit'] = 0 # create column 'dummy_exit' with only zeros\n",
        "employee_data.loc[employee_data['Attrition'] =='Yes', 'dummy_exit'] = 1 # replace with one if 'Attrition'==Yes\n",
        "\n",
        "employee_data['dummy_u35'] = employee_data['Age']<35 # Dummy with boolean when attrition equal to 'Yes'\n",
        "\n",
        "# Alternatively pandas has an already integrated command to create dummies from categorial variables\n",
        "\n",
        "employee_data=pd.get_dummies(employee_data,columns=['BusinessTravel','EducationField'])\n",
        "\n",
        "employee_data.head()"
      ],
      "execution_count": null,
      "outputs": []
    },
    {
      "cell_type": "code",
      "metadata": {
        "id": "IlXGq9frpX4E"
      },
      "source": [
        "# calculate percentage of employees that left the company\n",
        "\n",
        "employee_data['dummy_exit'].sum()/len(employee_data) # len() gives the length, i.e. number of rows of an array or df"
      ],
      "execution_count": null,
      "outputs": []
    },
    {
      "cell_type": "code",
      "metadata": {
        "id": "9N-S-m-opX4H"
      },
      "source": [
        "# alternatively using value_counts()\n",
        "\n",
        "employee_data['dummy_exit'].value_counts(normalize=True)"
      ],
      "execution_count": null,
      "outputs": []
    },
    {
      "cell_type": "code",
      "metadata": {
        "id": "LJ_Hds1gpX4J"
      },
      "source": [
        "# with the groupby() function, we can split the dataset by categories and do calculations on these subgroups\n",
        "\n",
        "employee_data['dummy_exit'].groupby(employee_data['Department']).value_counts(normalize=True)"
      ],
      "execution_count": null,
      "outputs": []
    },
    {
      "cell_type": "markdown",
      "metadata": {
        "collapsed": false,
        "id": "kcytfcWfpX4M"
      },
      "source": [
        "### 5.3 Visualization Libraries\n",
        "*Provide plotting and visualization support*"
      ]
    },
    {
      "cell_type": "markdown",
      "metadata": {
        "collapsed": false,
        "id": "08_h3dMopX4O"
      },
      "source": [
        "#### Matplotlib Library\n",
        "\n",
        "- Original visualization library built on NumPy arrays\n",
        "- Conceived in 2002 to enable MATLAB-style plotting\n",
        "\n",
        "\n",
        "- We will only provide a quick overview, for more information see matplotlib documentation\n",
        "- https://matplotlib.org/3.1.1/gallery/index.html"
      ]
    },
    {
      "cell_type": "code",
      "metadata": {
        "id": "TCnRr6DSpX4P"
      },
      "source": [
        "import matplotlib.pyplot as plt"
      ],
      "execution_count": null,
      "outputs": []
    },
    {
      "cell_type": "code",
      "metadata": {
        "id": "AQ8Z0EEhpX4R"
      },
      "source": [
        "# Here we define the plotstyle to be used\n",
        "# check https://matplotlib.org/3.1.1/gallery/style_sheets/style_sheets_reference.html for an overview of style sheets\n",
        "\n",
        "plt.style.use('ggplot')"
      ],
      "execution_count": null,
      "outputs": []
    },
    {
      "cell_type": "code",
      "metadata": {
        "id": "TKEvlKDApX4U"
      },
      "source": [
        "# There exist several \"magic functions\" in jupyter notebook which allow you additional operations\n",
        "%lsmagic"
      ],
      "execution_count": null,
      "outputs": []
    },
    {
      "cell_type": "code",
      "metadata": {
        "id": "o9lPivpMpX4X"
      },
      "source": [
        "# ... one we will need is \"%matplotlib inline\" which enables matplotlib plots to be displayed directly in the notebook\n",
        "%matplotlib inline"
      ],
      "execution_count": null,
      "outputs": []
    },
    {
      "cell_type": "code",
      "metadata": {
        "scrolled": true,
        "id": "1gg5mAj8pX4Z"
      },
      "source": [
        "# Histogram with frequencies\n",
        "plt.hist(employee_data['Age'])\n",
        "plt.xlabel('Age')\n",
        "plt.ylabel('Count')"
      ],
      "execution_count": null,
      "outputs": []
    },
    {
      "cell_type": "code",
      "metadata": {
        "scrolled": true,
        "id": "WNnFAZcRpX4c"
      },
      "source": [
        "plt.hist(employee_data['Age'],density=True, alpha=0.5)\n",
        "plt.hist(exit_data['Age'],density=True, alpha=0.5)\n",
        "plt.xlabel('Age')\n",
        "plt.ylabel('Count')\n",
        "plt.title('Some title')\n",
        "plt.legend(labels=['All', 'Exit'])"
      ],
      "execution_count": null,
      "outputs": []
    },
    {
      "cell_type": "code",
      "metadata": {
        "id": "yu4z9-G7pX4e"
      },
      "source": [
        "# We can also combine multiple plots with plt.subplot(#rows,#cols,i)\n",
        "\n",
        "plt.subplot(1,2,1)\n",
        "plt.hist(employee_data['Age'],density=True, color = 'red', alpha=0.5)\n",
        "plt.xlabel('Age (all)')\n",
        "plt.xlim(18,60)\n",
        "plt.ylim(0,0.06)\n",
        "\n",
        "plt.subplot(1,2,2)\n",
        "plt.hist(exit_data['Age'],density=True, color = 'blue', alpha=0.5)\n",
        "plt.xlabel('Age (exits)')\n",
        "plt.xlim(18,60)\n",
        "plt.ylim(0,0.06)\n",
        "#plt.show(); # Use this to avoid text output!"
      ],
      "execution_count": null,
      "outputs": []
    },
    {
      "cell_type": "code",
      "metadata": {
        "scrolled": true,
        "id": "iyzlIDkwpX4g"
      },
      "source": [
        "# Scatter plot example\n",
        "plt.scatter(employee_data['YearsAtCompany'],employee_data['MonthlyIncome'])\n",
        "plt.xlim(0,)\n",
        "plt.xlabel('YearsAtCompany')\n",
        "plt.ylabel('Monthly income')"
      ],
      "execution_count": null,
      "outputs": []
    },
    {
      "cell_type": "markdown",
      "metadata": {
        "collapsed": false,
        "id": "Csw1wFGQpX4i"
      },
      "source": [
        "#### Seaborn Library\n",
        "\n",
        "- Newer library with more visually appealing and simpler to use toolkit\n",
        "- Better suited for visualizing DataFrame structures\n",
        "\n",
        "- Again, we only provide a quick overview, see documentation for more details\n",
        "- https://seaborn.pydata.org/examples/index.html"
      ]
    },
    {
      "cell_type": "code",
      "metadata": {
        "id": "ju91IhozpX4j"
      },
      "source": [
        "import seaborn as sns"
      ],
      "execution_count": null,
      "outputs": []
    },
    {
      "cell_type": "code",
      "metadata": {
        "id": "JKOtx6T3pX4k"
      },
      "source": [
        "sns.displot(employee_data, x='YearsAtCompany', y='MonthlyIncome')\n",
        "plt.show();"
      ],
      "execution_count": null,
      "outputs": []
    },
    {
      "cell_type": "code",
      "metadata": {
        "scrolled": false,
        "id": "RYmyMMEcpX4m"
      },
      "source": [
        "sns.displot(employee_data[employee_data['Gender']=='Male'], x='YearsAtCompany', y='MonthlyIncome')\n",
        "sns.displot(employee_data[employee_data['Gender']=='Female'], x='YearsAtCompany', y='MonthlyIncome')\n",
        "plt.show();"
      ],
      "execution_count": null,
      "outputs": []
    },
    {
      "cell_type": "code",
      "metadata": {
        "scrolled": false,
        "id": "pwX_z3klpX4p"
      },
      "source": [
        "sns.relplot(x='YearsAtCompany',y='MonthlyIncome',data=employee_data, hue='Gender')"
      ],
      "execution_count": null,
      "outputs": []
    },
    {
      "cell_type": "code",
      "metadata": {
        "scrolled": false,
        "id": "aeD1tVx1pX4r"
      },
      "source": [
        "sns.regplot(x='YearsAtCompany',y='MonthlyIncome',data=employee_data)\n",
        "plt.show();"
      ],
      "execution_count": null,
      "outputs": []
    },
    {
      "cell_type": "code",
      "metadata": {
        "scrolled": false,
        "id": "Ew8_1r2OpX4w"
      },
      "source": [
        "sns.barplot(x='JobLevel',y='MonthlyIncome',data=employee_data)\n",
        "plt.show();"
      ],
      "execution_count": null,
      "outputs": []
    },
    {
      "cell_type": "markdown",
      "metadata": {
        "collapsed": false,
        "id": "gm8Mg8ztpX4y"
      },
      "source": [
        "### 5.4 Statsmodels Library\n",
        "*Provides many different statistical models, statistical tests, and statistical data exploration*\n",
        "\n",
        "- https://www.statsmodels.org/stable/index.html"
      ]
    },
    {
      "cell_type": "code",
      "metadata": {
        "id": "3g5yPa31pX4y"
      },
      "source": [
        "# import the statsmodels library\n",
        "import statsmodels.api as sm\n",
        "import statsmodels.formula.api as smf"
      ],
      "execution_count": null,
      "outputs": []
    },
    {
      "cell_type": "code",
      "metadata": {
        "id": "6tJNYxbHpX41"
      },
      "source": [
        "# simple OLS regression with one explanatory variable\n",
        "results_ols = smf.ols('MonthlyIncome ~ YearsAtCompany', data = employee_data).fit()\n",
        "print(results_ols.summary())"
      ],
      "execution_count": null,
      "outputs": []
    },
    {
      "cell_type": "code",
      "metadata": {
        "id": "EAHHRhkrpX44"
      },
      "source": [
        "# OLS regression with several explanatory variables\n",
        "results_ols2 = smf.ols('MonthlyIncome ~ YearsAtCompany + C(JobLevel)', data = employee_data).fit()\n",
        "print(results_ols2.summary())"
      ],
      "execution_count": null,
      "outputs": []
    },
    {
      "cell_type": "code",
      "metadata": {
        "scrolled": false,
        "id": "gpyQvz3ppX48"
      },
      "source": [
        "# Logit regression with one explanatory variable\n",
        "results_logit = smf.logit('dummy_exit ~ MonthlyIncome', data = employee_data).fit()\n",
        "\n",
        "print(results_logit.summary())"
      ],
      "execution_count": null,
      "outputs": []
    },
    {
      "cell_type": "markdown",
      "metadata": {
        "collapsed": false,
        "id": "g5Uy_sVzpX4-"
      },
      "source": [
        "### 5.5 Scikit-learn Library\n",
        "*Provides general purpose machine learning package with extensive coverage of models and feature transformers*\n",
        "\n",
        "- not part of the introductory session, but will be introduced in a later part of the course"
      ]
    },
    {
      "cell_type": "markdown",
      "metadata": {
        "collapsed": false,
        "id": "Q88T0EHCpX4_"
      },
      "source": [
        "# 6. References and Further Readings\n",
        "\n",
        "- VanderPlas, Jake (2016). Python Data Science Handbook: Essential Tools for Working with Data. O'Reilly Media.\n",
        "- McKinney, Wes (2012). Python for Data Analysis. O'Reilly Media.\n",
        "- Rule et al. (2018). \"Ten simple rules for writing and sharing computational analyses in Jupyter Notebooks\". In: PLoS Computational Biology 15.7: e1007007.\n",
        "\n",
        "\n",
        "- Athey, Susan and Guido W. Imbens (2019). \"Machine Learning Methods That Economists Should Know About\". In: Annual Review of Economics 11, pp. 685-725. \n",
        "- Breiman, Leo (2001). \"Statistical Modeling: The Two Culutures\". In: Statistical Science 16.3, pp.199-231.\n",
        "- Hastie, Trevor, Tibshirani, Robert, and Jerome Friedman (2017). Elements of Statistical Learning. Springer Science & Business Media.\n",
        "- Mullainathan, Sendhil and Jann Spiess (2017). \"Machine Learning: An Applied Econometric Approach\". In: Journal of Economic Perspectives 31.2, pp. 87-106.- VanderPlas, Jake (2016): Python Data Science Handbook: Essential Tools for Working with Data. O'Reilly Media.\n",
        "\n",
        "\n",
        "- Adams, Douglas (2008): The Hitchhiker's Guide to the Galaxy. Reclam."
      ]
    }
  ]
}