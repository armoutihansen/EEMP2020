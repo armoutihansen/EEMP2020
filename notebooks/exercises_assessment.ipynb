{
  "nbformat": 4,
  "nbformat_minor": 0,
  "metadata": {
    "colab": {
      "name": "ex3.ipynb",
      "provenance": [],
      "collapsed_sections": []
    },
    "kernelspec": {
      "name": "python3",
      "display_name": "Python 3"
    }
  },
  "cells": [
    {
      "cell_type": "code",
      "metadata": {
        "id": "u36jzasrAIGJ"
      },
      "source": [
        "# Solution 1\n",
        "import matplotlib.pyplot as plt\n",
        "import numpy as np\n",
        "import pandas as pd\n",
        "import seaborn as sns\n",
        "\n",
        "path_to_data = 'https://raw.githubusercontent.com/armoutihansen/EEMP2020/main/datasets/income.csv'\n",
        "\n",
        "df = pd.read_csv(path_to_data)"
      ],
      "execution_count": null,
      "outputs": []
    },
    {
      "cell_type": "code",
      "metadata": {
        "id": "1oq-WPuGAN0n"
      },
      "source": [
        "# Solution 2\n",
        "df_sample = df.sample(n=1000, random_state=181)\n",
        "\n",
        "from sklearn.model_selection import train_test_split\n",
        "X_train, X_val, y_train, y_val = train_test_split(df_sample[['age']], df_sample['income'],\n",
        "                                                  test_size=0.5, random_state=181)"
      ],
      "execution_count": null,
      "outputs": []
    },
    {
      "cell_type": "code",
      "metadata": {
        "id": "HYi6B7ECAoBc",
        "colab": {
          "base_uri": "https://localhost:8080/"
        },
        "outputId": "0ea70261-4153-4793-a313-db6e00e164a8"
      },
      "source": [
        "# Solution 3\n",
        "from sklearn.linear_model import LinearRegression\n",
        "reg = LinearRegression().fit(X_train, y_train)\n",
        "\n",
        "from sklearn.metrics import mean_squared_error\n",
        "pred = reg.predict(X_val)\n",
        "print('Validation MSE: ', mean_squared_error(pred, y_val))\n",
        "\n",
        "pred2 = reg.predict(df[['age']])\n",
        "print('Population MSE: ', mean_squared_error(pred2, df['income']))"
      ],
      "execution_count": null,
      "outputs": [
        {
          "output_type": "stream",
          "text": [
            "Validation MSE:  43240242.02838603\n",
            "Population MSE:  38692560.45433813\n"
          ],
          "name": "stdout"
        }
      ]
    },
    {
      "cell_type": "code",
      "metadata": {
        "id": "uduytDg4BSza",
        "colab": {
          "base_uri": "https://localhost:8080/"
        },
        "outputId": "f4f28f38-06ee-4962-86ba-95eb3fc107fd"
      },
      "source": [
        "# Solution 4\n",
        "from sklearn.model_selection import cross_val_score\n",
        "X = df_sample[['age']]\n",
        "y = df_sample['income']\n",
        "mses = cross_val_score(LinearRegression(), X, y, cv=5, scoring='neg_mean_squared_error')\n",
        "np.mean(mses)*-1"
      ],
      "execution_count": null,
      "outputs": [
        {
          "output_type": "execute_result",
          "data": {
            "text/plain": [
              "42094619.94371005"
            ]
          },
          "metadata": {
            "tags": []
          },
          "execution_count": 10
        }
      ]
    },
    {
      "cell_type": "code",
      "metadata": {
        "id": "QlZoXCRDCAhm",
        "colab": {
          "base_uri": "https://localhost:8080/"
        },
        "outputId": "613f9c8f-4fd9-43bb-a11a-daaad5a43a7e"
      },
      "source": [
        "from sklearn.neighbors import KNeighborsRegressor\n",
        "from sklearn.model_selection import GridSearchCV\n",
        "\n",
        "param_grid = {'n_neighbors': np.arange(1,21)}\n",
        "knn_grid = GridSearchCV(KNeighborsRegressor(), param_grid, cv=5,\n",
        "                        scoring='neg_mean_squared_error').fit(X, y)\n",
        "print(knn_grid.best_estimator_)\n",
        "print(knn_grid.best_score_*-1)"
      ],
      "execution_count": null,
      "outputs": [
        {
          "output_type": "stream",
          "text": [
            "KNeighborsRegressor(algorithm='auto', leaf_size=30, metric='minkowski',\n",
            "                    metric_params=None, n_jobs=None, n_neighbors=20, p=2,\n",
            "                    weights='uniform')\n",
            "29311720.017058544\n"
          ],
          "name": "stdout"
        }
      ]
    },
    {
      "cell_type": "code",
      "metadata": {
        "id": "zsCDATei50D-"
      },
      "source": [
        ""
      ],
      "execution_count": null,
      "outputs": []
    }
  ]
}