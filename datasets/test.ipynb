{
 "cells": [
  {
   "cell_type": "code",
   "execution_count": 1,
   "metadata": {},
   "outputs": [
    {
     "name": "stdout",
     "output_type": "stream",
     "text": [
      "/home/jah/miniconda3/envs/eemp2020/bin/python\r\n"
     ]
    }
   ],
   "source": [
    "!which python"
   ]
  },
  {
   "cell_type": "code",
   "execution_count": 140,
   "metadata": {},
   "outputs": [],
   "source": [
    "# NUMPY / PANDAS\n",
    "import numpy as np\n",
    "import pandas as pd\n",
    "\n",
    "# SCI-KIT LEARN\n",
    "import sklearn\n",
    "from sklearn.model_selection import (GroupKFold, GroupShuffleSplit, cross_validate, \n",
    "                                       RandomizedSearchCV,GridSearchCV)\n",
    "from sklearn.linear_model import LogisticRegression\n",
    "from sklearn.tree import DecisionTreeClassifier\n",
    "import sklearn.tree as tree\n",
    "from sklearn.ensemble import RandomForestClassifier\n",
    "from sklearn.neural_network import MLPClassifier\n",
    "from sklearn.preprocessing import StandardScaler,OneHotEncoder\n",
    "from sklearn.pipeline import make_pipeline\n",
    "from sklearn.compose import ColumnTransformer, make_column_transformer\n",
    "from sklearn.metrics import log_loss, roc_curve, auc\n",
    "\n",
    "#PDPbox\n",
    "from pdpbox import pdp\n",
    "\n",
    "# MATPLOTLIB\n",
    "%matplotlib inline\n",
    "import matplotlib\n",
    "import matplotlib.pyplot as plt\n",
    "\n",
    "# OTHER\n",
    "from itertools import product\n",
    "import copy\n",
    "import graphviz\n",
    "\n",
    "#Ignore warnings\n",
    "import warnings\n",
    "warnings.filterwarnings('ignore')"
   ]
  },
  {
   "cell_type": "code",
   "execution_count": 141,
   "metadata": {},
   "outputs": [],
   "source": [
    "df = pd.read_csv(\"simulated_TECHCO_data.csv\")"
   ]
  },
  {
   "cell_type": "code",
   "execution_count": 9,
   "metadata": {},
   "outputs": [
    {
     "data": {
      "text/html": [
       "<div>\n",
       "<style scoped>\n",
       "    .dataframe tbody tr th:only-of-type {\n",
       "        vertical-align: middle;\n",
       "    }\n",
       "\n",
       "    .dataframe tbody tr th {\n",
       "        vertical-align: top;\n",
       "    }\n",
       "\n",
       "    .dataframe thead th {\n",
       "        text-align: right;\n",
       "    }\n",
       "</style>\n",
       "<table border=\"1\" class=\"dataframe\">\n",
       "  <thead>\n",
       "    <tr style=\"text-align: right;\">\n",
       "      <th></th>\n",
       "      <th>time</th>\n",
       "      <th>training_score</th>\n",
       "      <th>logical_score</th>\n",
       "      <th>verbal_score</th>\n",
       "      <th>avg_literacy</th>\n",
       "      <th>location_age</th>\n",
       "      <th>distance</th>\n",
       "      <th>similar_language</th>\n",
       "      <th>is_male</th>\n",
       "      <th>emp_id</th>\n",
       "      <th>turnover</th>\n",
       "    </tr>\n",
       "  </thead>\n",
       "  <tbody>\n",
       "    <tr>\n",
       "      <th>0</th>\n",
       "      <td>1</td>\n",
       "      <td>4.840446</td>\n",
       "      <td>5</td>\n",
       "      <td>2</td>\n",
       "      <td>81.05207</td>\n",
       "      <td>6</td>\n",
       "      <td>1.635494</td>\n",
       "      <td>24.11053</td>\n",
       "      <td>1</td>\n",
       "      <td>1</td>\n",
       "      <td>Stayed</td>\n",
       "    </tr>\n",
       "    <tr>\n",
       "      <th>1</th>\n",
       "      <td>2</td>\n",
       "      <td>4.840446</td>\n",
       "      <td>5</td>\n",
       "      <td>2</td>\n",
       "      <td>81.05207</td>\n",
       "      <td>6</td>\n",
       "      <td>1.635494</td>\n",
       "      <td>24.11053</td>\n",
       "      <td>1</td>\n",
       "      <td>1</td>\n",
       "      <td>Stayed</td>\n",
       "    </tr>\n",
       "    <tr>\n",
       "      <th>2</th>\n",
       "      <td>3</td>\n",
       "      <td>4.840446</td>\n",
       "      <td>5</td>\n",
       "      <td>2</td>\n",
       "      <td>81.05207</td>\n",
       "      <td>6</td>\n",
       "      <td>1.635494</td>\n",
       "      <td>24.11053</td>\n",
       "      <td>1</td>\n",
       "      <td>1</td>\n",
       "      <td>Stayed</td>\n",
       "    </tr>\n",
       "    <tr>\n",
       "      <th>3</th>\n",
       "      <td>4</td>\n",
       "      <td>4.840446</td>\n",
       "      <td>5</td>\n",
       "      <td>2</td>\n",
       "      <td>81.05207</td>\n",
       "      <td>6</td>\n",
       "      <td>1.635494</td>\n",
       "      <td>24.11053</td>\n",
       "      <td>1</td>\n",
       "      <td>1</td>\n",
       "      <td>Stayed</td>\n",
       "    </tr>\n",
       "    <tr>\n",
       "      <th>4</th>\n",
       "      <td>5</td>\n",
       "      <td>4.840446</td>\n",
       "      <td>5</td>\n",
       "      <td>2</td>\n",
       "      <td>81.05207</td>\n",
       "      <td>6</td>\n",
       "      <td>1.635494</td>\n",
       "      <td>24.11053</td>\n",
       "      <td>1</td>\n",
       "      <td>1</td>\n",
       "      <td>Stayed</td>\n",
       "    </tr>\n",
       "  </tbody>\n",
       "</table>\n",
       "</div>"
      ],
      "text/plain": [
       "   time  training_score  logical_score  verbal_score  avg_literacy  \\\n",
       "0     1        4.840446              5             2      81.05207   \n",
       "1     2        4.840446              5             2      81.05207   \n",
       "2     3        4.840446              5             2      81.05207   \n",
       "3     4        4.840446              5             2      81.05207   \n",
       "4     5        4.840446              5             2      81.05207   \n",
       "\n",
       "   location_age  distance  similar_language  is_male  emp_id turnover  \n",
       "0             6  1.635494          24.11053        1       1   Stayed  \n",
       "1             6  1.635494          24.11053        1       1   Stayed  \n",
       "2             6  1.635494          24.11053        1       1   Stayed  \n",
       "3             6  1.635494          24.11053        1       1   Stayed  \n",
       "4             6  1.635494          24.11053        1       1   Stayed  "
      ]
     },
     "execution_count": 9,
     "metadata": {},
     "output_type": "execute_result"
    }
   ],
   "source": [
    "df.head()"
   ]
  },
  {
   "cell_type": "code",
   "execution_count": 10,
   "metadata": {},
   "outputs": [],
   "source": [
    "df.time = df.time.astype(int)\n",
    "df.is_male = df.is_male.astype(int)"
   ]
  },
  {
   "cell_type": "code",
   "execution_count": 11,
   "metadata": {},
   "outputs": [],
   "source": [
    "df.set_index(['emp_id','time'],drop=False,inplace=True)"
   ]
  },
  {
   "cell_type": "code",
   "execution_count": 19,
   "metadata": {},
   "outputs": [
    {
     "data": {
      "text/html": [
       "<div>\n",
       "<style scoped>\n",
       "    .dataframe tbody tr th:only-of-type {\n",
       "        vertical-align: middle;\n",
       "    }\n",
       "\n",
       "    .dataframe tbody tr th {\n",
       "        vertical-align: top;\n",
       "    }\n",
       "\n",
       "    .dataframe thead th {\n",
       "        text-align: right;\n",
       "    }\n",
       "</style>\n",
       "<table border=\"1\" class=\"dataframe\">\n",
       "  <thead>\n",
       "    <tr style=\"text-align: right;\">\n",
       "      <th></th>\n",
       "      <th>time</th>\n",
       "      <th>training_score</th>\n",
       "      <th>logical_score</th>\n",
       "      <th>verbal_score</th>\n",
       "      <th>avg_literacy</th>\n",
       "      <th>location_age</th>\n",
       "      <th>distance</th>\n",
       "      <th>similar_language</th>\n",
       "      <th>is_male</th>\n",
       "      <th>emp_id</th>\n",
       "    </tr>\n",
       "  </thead>\n",
       "  <tbody>\n",
       "    <tr>\n",
       "      <th>count</th>\n",
       "      <td>34452.000000</td>\n",
       "      <td>34452.000000</td>\n",
       "      <td>34452.000000</td>\n",
       "      <td>34452.000000</td>\n",
       "      <td>34452.000000</td>\n",
       "      <td>34452.000000</td>\n",
       "      <td>34452.000000</td>\n",
       "      <td>34452.000000</td>\n",
       "      <td>34452.000000</td>\n",
       "      <td>34452.000000</td>\n",
       "    </tr>\n",
       "    <tr>\n",
       "      <th>mean</th>\n",
       "      <td>17.046529</td>\n",
       "      <td>4.496400</td>\n",
       "      <td>4.373999</td>\n",
       "      <td>4.650615</td>\n",
       "      <td>75.583604</td>\n",
       "      <td>15.344276</td>\n",
       "      <td>0.833396</td>\n",
       "      <td>59.186507</td>\n",
       "      <td>0.567804</td>\n",
       "      <td>599.649454</td>\n",
       "    </tr>\n",
       "    <tr>\n",
       "      <th>std</th>\n",
       "      <td>10.320377</td>\n",
       "      <td>0.435643</td>\n",
       "      <td>3.905698</td>\n",
       "      <td>4.472608</td>\n",
       "      <td>9.196516</td>\n",
       "      <td>7.919007</td>\n",
       "      <td>0.762817</td>\n",
       "      <td>35.286223</td>\n",
       "      <td>0.495388</td>\n",
       "      <td>340.873215</td>\n",
       "    </tr>\n",
       "    <tr>\n",
       "      <th>min</th>\n",
       "      <td>1.000000</td>\n",
       "      <td>2.688673</td>\n",
       "      <td>-5.000000</td>\n",
       "      <td>-7.000000</td>\n",
       "      <td>49.354540</td>\n",
       "      <td>2.000000</td>\n",
       "      <td>0.000000</td>\n",
       "      <td>1.250000</td>\n",
       "      <td>0.000000</td>\n",
       "      <td>1.000000</td>\n",
       "    </tr>\n",
       "    <tr>\n",
       "      <th>25%</th>\n",
       "      <td>8.000000</td>\n",
       "      <td>4.263266</td>\n",
       "      <td>1.000000</td>\n",
       "      <td>1.000000</td>\n",
       "      <td>68.548850</td>\n",
       "      <td>9.000000</td>\n",
       "      <td>0.191342</td>\n",
       "      <td>27.132500</td>\n",
       "      <td>0.000000</td>\n",
       "      <td>311.000000</td>\n",
       "    </tr>\n",
       "    <tr>\n",
       "      <th>50%</th>\n",
       "      <td>16.000000</td>\n",
       "      <td>4.578397</td>\n",
       "      <td>4.000000</td>\n",
       "      <td>4.000000</td>\n",
       "      <td>77.009510</td>\n",
       "      <td>11.000000</td>\n",
       "      <td>0.589657</td>\n",
       "      <td>49.118420</td>\n",
       "      <td>1.000000</td>\n",
       "      <td>603.000000</td>\n",
       "    </tr>\n",
       "    <tr>\n",
       "      <th>75%</th>\n",
       "      <td>26.000000</td>\n",
       "      <td>4.829628</td>\n",
       "      <td>8.000000</td>\n",
       "      <td>8.000000</td>\n",
       "      <td>82.778083</td>\n",
       "      <td>24.000000</td>\n",
       "      <td>1.316585</td>\n",
       "      <td>98.816540</td>\n",
       "      <td>1.000000</td>\n",
       "      <td>890.000000</td>\n",
       "    </tr>\n",
       "    <tr>\n",
       "      <th>max</th>\n",
       "      <td>39.000000</td>\n",
       "      <td>5.110679</td>\n",
       "      <td>12.000000</td>\n",
       "      <td>17.000000</td>\n",
       "      <td>97.357410</td>\n",
       "      <td>28.000000</td>\n",
       "      <td>3.200019</td>\n",
       "      <td>100.000000</td>\n",
       "      <td>1.000000</td>\n",
       "      <td>1191.000000</td>\n",
       "    </tr>\n",
       "  </tbody>\n",
       "</table>\n",
       "</div>"
      ],
      "text/plain": [
       "               time  training_score  logical_score  verbal_score  \\\n",
       "count  34452.000000    34452.000000   34452.000000  34452.000000   \n",
       "mean      17.046529        4.496400       4.373999      4.650615   \n",
       "std       10.320377        0.435643       3.905698      4.472608   \n",
       "min        1.000000        2.688673      -5.000000     -7.000000   \n",
       "25%        8.000000        4.263266       1.000000      1.000000   \n",
       "50%       16.000000        4.578397       4.000000      4.000000   \n",
       "75%       26.000000        4.829628       8.000000      8.000000   \n",
       "max       39.000000        5.110679      12.000000     17.000000   \n",
       "\n",
       "       avg_literacy  location_age      distance  similar_language  \\\n",
       "count  34452.000000  34452.000000  34452.000000      34452.000000   \n",
       "mean      75.583604     15.344276      0.833396         59.186507   \n",
       "std        9.196516      7.919007      0.762817         35.286223   \n",
       "min       49.354540      2.000000      0.000000          1.250000   \n",
       "25%       68.548850      9.000000      0.191342         27.132500   \n",
       "50%       77.009510     11.000000      0.589657         49.118420   \n",
       "75%       82.778083     24.000000      1.316585         98.816540   \n",
       "max       97.357410     28.000000      3.200019        100.000000   \n",
       "\n",
       "            is_male        emp_id  \n",
       "count  34452.000000  34452.000000  \n",
       "mean       0.567804    599.649454  \n",
       "std        0.495388    340.873215  \n",
       "min        0.000000      1.000000  \n",
       "25%        0.000000    311.000000  \n",
       "50%        1.000000    603.000000  \n",
       "75%        1.000000    890.000000  \n",
       "max        1.000000   1191.000000  "
      ]
     },
     "execution_count": 19,
     "metadata": {},
     "output_type": "execute_result"
    }
   ],
   "source": [
    "df.head()\n",
    "df.describe()"
   ]
  },
  {
   "cell_type": "code",
   "execution_count": 14,
   "metadata": {},
   "outputs": [
    {
     "data": {
      "text/plain": [
       "emp_id  time\n",
       "1       1       0 Stayed\n",
       "        2       0 Stayed\n",
       "        3       0 Stayed\n",
       "        4       0 Stayed\n",
       "        5       0 Stayed\n",
       "                  ...   \n",
       "1191    34      0 Stayed\n",
       "        35      0 Stayed\n",
       "        36      0 Stayed\n",
       "        37      0 Stayed\n",
       "        38      0 Stayed\n",
       "Name: turnover, Length: 34452, dtype: object"
      ]
     },
     "execution_count": 14,
     "metadata": {},
     "output_type": "execute_result"
    }
   ],
   "source": [
    "df.loc[df['turnover']=='Stayed', 'turnover'] = '0 Stayed'\n",
    "df.loc[df['turnover']=='Left', 'turnover'] = '1 Left'\n",
    "df.turnover\n",
    "#y = df.turnover"
   ]
  },
  {
   "cell_type": "code",
   "execution_count": 15,
   "metadata": {},
   "outputs": [],
   "source": [
    "X = df.drop(['turnover'],axis=1)\n",
    "cols = [\"time\",\"training_score\",\"avg_literacy\",\"is_male\",\"logical_score\",\"verbal_score\",\"location_age\",\"distance\",\"similar_language\"]\n",
    "X = X[cols]"
   ]
  },
  {
   "cell_type": "code",
   "execution_count": 16,
   "metadata": {},
   "outputs": [],
   "source": [
    "train_inds, test_inds = next(GroupShuffleSplit(test_size=.3,random_state=111).split(X,y,groups=df.emp_id))"
   ]
  },
  {
   "cell_type": "code",
   "execution_count": 17,
   "metadata": {},
   "outputs": [],
   "source": [
    "X_train, X_test = X.iloc[train_inds], X.iloc[test_inds]\n",
    "y_train, y_test = y.iloc[train_inds], y.iloc[test_inds]\n",
    "employee_train = df.emp_id.iloc[train_inds]"
   ]
  },
  {
   "cell_type": "code",
   "execution_count": 18,
   "metadata": {},
   "outputs": [],
   "source": [
    "folds = list(GroupKFold(n_splits=10).split(X_train,y_train,employee_train))"
   ]
  },
  {
   "cell_type": "code",
   "execution_count": 64,
   "metadata": {},
   "outputs": [],
   "source": [
    "df_small = df[df.time == 2].drop(columns=\"time\")"
   ]
  },
  {
   "cell_type": "code",
   "execution_count": 65,
   "metadata": {},
   "outputs": [
    {
     "data": {
      "text/html": [
       "<div>\n",
       "<style scoped>\n",
       "    .dataframe tbody tr th:only-of-type {\n",
       "        vertical-align: middle;\n",
       "    }\n",
       "\n",
       "    .dataframe tbody tr th {\n",
       "        vertical-align: top;\n",
       "    }\n",
       "\n",
       "    .dataframe thead th {\n",
       "        text-align: right;\n",
       "    }\n",
       "</style>\n",
       "<table border=\"1\" class=\"dataframe\">\n",
       "  <thead>\n",
       "    <tr style=\"text-align: right;\">\n",
       "      <th></th>\n",
       "      <th>training_score</th>\n",
       "      <th>logical_score</th>\n",
       "      <th>verbal_score</th>\n",
       "      <th>avg_literacy</th>\n",
       "      <th>location_age</th>\n",
       "      <th>distance</th>\n",
       "      <th>similar_language</th>\n",
       "      <th>is_male</th>\n",
       "      <th>emp_id</th>\n",
       "    </tr>\n",
       "  </thead>\n",
       "  <tbody>\n",
       "    <tr>\n",
       "      <th>count</th>\n",
       "      <td>1186.000000</td>\n",
       "      <td>1186.000000</td>\n",
       "      <td>1186.000000</td>\n",
       "      <td>1186.000000</td>\n",
       "      <td>1186.000000</td>\n",
       "      <td>1186.000000</td>\n",
       "      <td>1186.000000</td>\n",
       "      <td>1186.000000</td>\n",
       "      <td>1186.000000</td>\n",
       "    </tr>\n",
       "    <tr>\n",
       "      <th>mean</th>\n",
       "      <td>4.396676</td>\n",
       "      <td>4.465430</td>\n",
       "      <td>4.650927</td>\n",
       "      <td>75.685801</td>\n",
       "      <td>15.258010</td>\n",
       "      <td>0.817418</td>\n",
       "      <td>59.563997</td>\n",
       "      <td>0.566610</td>\n",
       "      <td>595.596965</td>\n",
       "    </tr>\n",
       "    <tr>\n",
       "      <th>std</th>\n",
       "      <td>0.541748</td>\n",
       "      <td>3.926442</td>\n",
       "      <td>4.438372</td>\n",
       "      <td>9.267688</td>\n",
       "      <td>7.933641</td>\n",
       "      <td>0.751528</td>\n",
       "      <td>35.323193</td>\n",
       "      <td>0.495752</td>\n",
       "      <td>344.228100</td>\n",
       "    </tr>\n",
       "    <tr>\n",
       "      <th>min</th>\n",
       "      <td>2.688673</td>\n",
       "      <td>-5.000000</td>\n",
       "      <td>-7.000000</td>\n",
       "      <td>49.354540</td>\n",
       "      <td>2.000000</td>\n",
       "      <td>0.000000</td>\n",
       "      <td>1.250000</td>\n",
       "      <td>0.000000</td>\n",
       "      <td>1.000000</td>\n",
       "    </tr>\n",
       "    <tr>\n",
       "      <th>25%</th>\n",
       "      <td>4.181925</td>\n",
       "      <td>1.000000</td>\n",
       "      <td>1.000000</td>\n",
       "      <td>68.609995</td>\n",
       "      <td>9.000000</td>\n",
       "      <td>0.199354</td>\n",
       "      <td>27.160832</td>\n",
       "      <td>0.000000</td>\n",
       "      <td>297.250000</td>\n",
       "    </tr>\n",
       "    <tr>\n",
       "      <th>50%</th>\n",
       "      <td>4.525831</td>\n",
       "      <td>4.000000</td>\n",
       "      <td>4.000000</td>\n",
       "      <td>77.113750</td>\n",
       "      <td>11.000000</td>\n",
       "      <td>0.580076</td>\n",
       "      <td>54.749995</td>\n",
       "      <td>1.000000</td>\n",
       "      <td>595.500000</td>\n",
       "    </tr>\n",
       "    <tr>\n",
       "      <th>75%</th>\n",
       "      <td>4.810758</td>\n",
       "      <td>8.000000</td>\n",
       "      <td>7.000000</td>\n",
       "      <td>82.838060</td>\n",
       "      <td>24.000000</td>\n",
       "      <td>1.257965</td>\n",
       "      <td>98.817845</td>\n",
       "      <td>1.000000</td>\n",
       "      <td>892.750000</td>\n",
       "    </tr>\n",
       "    <tr>\n",
       "      <th>max</th>\n",
       "      <td>5.110679</td>\n",
       "      <td>12.000000</td>\n",
       "      <td>17.000000</td>\n",
       "      <td>96.931760</td>\n",
       "      <td>28.000000</td>\n",
       "      <td>3.200019</td>\n",
       "      <td>100.000000</td>\n",
       "      <td>1.000000</td>\n",
       "      <td>1191.000000</td>\n",
       "    </tr>\n",
       "  </tbody>\n",
       "</table>\n",
       "</div>"
      ],
      "text/plain": [
       "       training_score  logical_score  verbal_score  avg_literacy  \\\n",
       "count     1186.000000    1186.000000   1186.000000   1186.000000   \n",
       "mean         4.396676       4.465430      4.650927     75.685801   \n",
       "std          0.541748       3.926442      4.438372      9.267688   \n",
       "min          2.688673      -5.000000     -7.000000     49.354540   \n",
       "25%          4.181925       1.000000      1.000000     68.609995   \n",
       "50%          4.525831       4.000000      4.000000     77.113750   \n",
       "75%          4.810758       8.000000      7.000000     82.838060   \n",
       "max          5.110679      12.000000     17.000000     96.931760   \n",
       "\n",
       "       location_age     distance  similar_language      is_male       emp_id  \n",
       "count   1186.000000  1186.000000       1186.000000  1186.000000  1186.000000  \n",
       "mean      15.258010     0.817418         59.563997     0.566610   595.596965  \n",
       "std        7.933641     0.751528         35.323193     0.495752   344.228100  \n",
       "min        2.000000     0.000000          1.250000     0.000000     1.000000  \n",
       "25%        9.000000     0.199354         27.160832     0.000000   297.250000  \n",
       "50%       11.000000     0.580076         54.749995     1.000000   595.500000  \n",
       "75%       24.000000     1.257965         98.817845     1.000000   892.750000  \n",
       "max       28.000000     3.200019        100.000000     1.000000  1191.000000  "
      ]
     },
     "execution_count": 65,
     "metadata": {},
     "output_type": "execute_result"
    }
   ],
   "source": [
    "df_small.describe()"
   ]
  },
  {
   "cell_type": "code",
   "execution_count": 57,
   "metadata": {},
   "outputs": [
    {
     "data": {
      "text/html": [
       "<div>\n",
       "<style scoped>\n",
       "    .dataframe tbody tr th:only-of-type {\n",
       "        vertical-align: middle;\n",
       "    }\n",
       "\n",
       "    .dataframe tbody tr th {\n",
       "        vertical-align: top;\n",
       "    }\n",
       "\n",
       "    .dataframe thead th {\n",
       "        text-align: right;\n",
       "    }\n",
       "</style>\n",
       "<table border=\"1\" class=\"dataframe\">\n",
       "  <thead>\n",
       "    <tr style=\"text-align: right;\">\n",
       "      <th></th>\n",
       "      <th>training_score</th>\n",
       "      <th>logical_score</th>\n",
       "      <th>verbal_score</th>\n",
       "      <th>avg_literacy</th>\n",
       "      <th>location_age</th>\n",
       "      <th>distance</th>\n",
       "      <th>similar_language</th>\n",
       "      <th>is_male</th>\n",
       "      <th>emp_id</th>\n",
       "      <th>turnover</th>\n",
       "    </tr>\n",
       "  </thead>\n",
       "  <tbody>\n",
       "    <tr>\n",
       "      <th>0</th>\n",
       "      <td>4.840446</td>\n",
       "      <td>5</td>\n",
       "      <td>2</td>\n",
       "      <td>81.05207</td>\n",
       "      <td>6</td>\n",
       "      <td>1.635494</td>\n",
       "      <td>24.11053</td>\n",
       "      <td>1</td>\n",
       "      <td>1</td>\n",
       "      <td>Stayed</td>\n",
       "    </tr>\n",
       "    <tr>\n",
       "      <th>39</th>\n",
       "      <td>4.355449</td>\n",
       "      <td>0</td>\n",
       "      <td>8</td>\n",
       "      <td>93.72386</td>\n",
       "      <td>3</td>\n",
       "      <td>0.234684</td>\n",
       "      <td>96.08640</td>\n",
       "      <td>1</td>\n",
       "      <td>2</td>\n",
       "      <td>Stayed</td>\n",
       "    </tr>\n",
       "    <tr>\n",
       "      <th>73</th>\n",
       "      <td>4.416302</td>\n",
       "      <td>3</td>\n",
       "      <td>2</td>\n",
       "      <td>66.49519</td>\n",
       "      <td>6</td>\n",
       "      <td>0.673065</td>\n",
       "      <td>100.00000</td>\n",
       "      <td>1</td>\n",
       "      <td>3</td>\n",
       "      <td>Stayed</td>\n",
       "    </tr>\n",
       "    <tr>\n",
       "      <th>110</th>\n",
       "      <td>4.995522</td>\n",
       "      <td>11</td>\n",
       "      <td>3</td>\n",
       "      <td>87.05980</td>\n",
       "      <td>13</td>\n",
       "      <td>0.232718</td>\n",
       "      <td>93.20673</td>\n",
       "      <td>1</td>\n",
       "      <td>4</td>\n",
       "      <td>Stayed</td>\n",
       "    </tr>\n",
       "    <tr>\n",
       "      <th>144</th>\n",
       "      <td>4.531571</td>\n",
       "      <td>1</td>\n",
       "      <td>0</td>\n",
       "      <td>77.78675</td>\n",
       "      <td>24</td>\n",
       "      <td>2.333878</td>\n",
       "      <td>23.03190</td>\n",
       "      <td>0</td>\n",
       "      <td>5</td>\n",
       "      <td>Stayed</td>\n",
       "    </tr>\n",
       "  </tbody>\n",
       "</table>\n",
       "</div>"
      ],
      "text/plain": [
       "     training_score  logical_score  verbal_score  avg_literacy  location_age  \\\n",
       "0          4.840446              5             2      81.05207             6   \n",
       "39         4.355449              0             8      93.72386             3   \n",
       "73         4.416302              3             2      66.49519             6   \n",
       "110        4.995522             11             3      87.05980            13   \n",
       "144        4.531571              1             0      77.78675            24   \n",
       "\n",
       "     distance  similar_language  is_male  emp_id turnover  \n",
       "0    1.635494          24.11053        1       1   Stayed  \n",
       "39   0.234684          96.08640        1       2   Stayed  \n",
       "73   0.673065         100.00000        1       3   Stayed  \n",
       "110  0.232718          93.20673        1       4   Stayed  \n",
       "144  2.333878          23.03190        0       5   Stayed  "
      ]
     },
     "execution_count": 57,
     "metadata": {},
     "output_type": "execute_result"
    }
   ],
   "source": [
    "df_small.head()"
   ]
  },
  {
   "cell_type": "code",
   "execution_count": 58,
   "metadata": {},
   "outputs": [],
   "source": [
    "from sklearn.model_selection import train_test_split"
   ]
  },
  {
   "cell_type": "code",
   "execution_count": 59,
   "metadata": {},
   "outputs": [],
   "source": [
    "X = df_small.drop(columns=\"turnover\")"
   ]
  },
  {
   "cell_type": "code",
   "execution_count": 66,
   "metadata": {},
   "outputs": [
    {
     "data": {
      "text/plain": [
       "1        0\n",
       "40       0\n",
       "74       0\n",
       "111      0\n",
       "145      0\n",
       "        ..\n",
       "34307    0\n",
       "34341    0\n",
       "34380    0\n",
       "34409    0\n",
       "34415    0\n",
       "Name: turnover, Length: 1186, dtype: object"
      ]
     },
     "execution_count": 66,
     "metadata": {},
     "output_type": "execute_result"
    }
   ],
   "source": [
    "df_small.loc[df['turnover']=='Stayed', 'turnover'] = 0\n",
    "df_small.loc[df['turnover']=='Left', 'turnover'] = 1\n",
    "df_small.turnover"
   ]
  },
  {
   "cell_type": "code",
   "execution_count": 67,
   "metadata": {},
   "outputs": [],
   "source": [
    "y = df_small.turnover"
   ]
  },
  {
   "cell_type": "code",
   "execution_count": 36,
   "metadata": {},
   "outputs": [],
   "source": [
    "X_train, X_test, y_train, y_test = train_test_split(X, y, test_size=0.7, random_state=181)"
   ]
  },
  {
   "cell_type": "code",
   "execution_count": 37,
   "metadata": {},
   "outputs": [],
   "source": [
    "from sklearn.tree import DecisionTreeClassifier"
   ]
  },
  {
   "cell_type": "code",
   "execution_count": 38,
   "metadata": {},
   "outputs": [],
   "source": [
    "from sklearn.model_selection import GridSearchCV"
   ]
  },
  {
   "cell_type": "code",
   "execution_count": 41,
   "metadata": {},
   "outputs": [],
   "source": [
    "param_grid = {'max_depth': np.arange(1,100)}\n",
    "clf_cv = GridSearchCV(DecisionTreeClassifier(), param_grid, cv=5).fit(X,y)"
   ]
  },
  {
   "cell_type": "code",
   "execution_count": 43,
   "metadata": {},
   "outputs": [
    {
     "data": {
      "text/plain": [
       "DecisionTreeClassifier(max_depth=1)"
      ]
     },
     "execution_count": 43,
     "metadata": {},
     "output_type": "execute_result"
    }
   ],
   "source": [
    "clf_cv.best_estimator_"
   ]
  },
  {
   "cell_type": "code",
   "execution_count": 45,
   "metadata": {},
   "outputs": [
    {
     "data": {
      "text/plain": [
       "['training_score',\n",
       " 'logical_score',\n",
       " 'verbal_score',\n",
       " 'avg_literacy',\n",
       " 'location_age',\n",
       " 'distance',\n",
       " 'similar_language',\n",
       " 'is_male',\n",
       " 'emp_id']"
      ]
     },
     "execution_count": 45,
     "metadata": {},
     "output_type": "execute_result"
    }
   ],
   "source": [
    "list(X_train.columns)"
   ]
  },
  {
   "cell_type": "code",
   "execution_count": 47,
   "metadata": {},
   "outputs": [
    {
     "data": {
      "image/png": "[encoded data removed]",
      "text/plain": [
       "<Figure size 1296x1296 with 1 Axes>"
      ]
     },
     "metadata": {
      "needs_background": "light"
     },
     "output_type": "display_data"
    }
   ],
   "source": [
    "from sklearn import tree\n",
    "fig, ax = plt.subplots(figsize=(18, 18))\n",
    "tree.plot_tree(clf_cv.best_estimator_, feature_names=list(X_train.columns), fontsize=12,\n",
    "              class_names=['no', 'yes']);"
   ]
  },
  {
   "cell_type": "code",
   "execution_count": 48,
   "metadata": {},
   "outputs": [
    {
     "data": {
      "text/plain": [
       "0.9958018353785029"
      ]
     },
     "execution_count": 48,
     "metadata": {},
     "output_type": "execute_result"
    }
   ],
   "source": [
    "clf_cv.best_score_"
   ]
  },
  {
   "cell_type": "code",
   "execution_count": 53,
   "metadata": {},
   "outputs": [
    {
     "data": {
      "text/plain": [
       "2"
      ]
     },
     "execution_count": 53,
     "metadata": {},
     "output_type": "execute_result"
    }
   ],
   "source": [
    "y.nunique()"
   ]
  },
  {
   "cell_type": "code",
   "execution_count": 68,
   "metadata": {},
   "outputs": [
    {
     "data": {
      "text/plain": [
       "0.006745362563237774"
      ]
     },
     "execution_count": 68,
     "metadata": {},
     "output_type": "execute_result"
    }
   ],
   "source": [
    "np.mean(y)"
   ]
  },
  {
   "cell_type": "code",
   "execution_count": 70,
   "metadata": {},
   "outputs": [
    {
     "data": {
      "text/html": [
       "<div>\n",
       "<style scoped>\n",
       "    .dataframe tbody tr th:only-of-type {\n",
       "        vertical-align: middle;\n",
       "    }\n",
       "\n",
       "    .dataframe tbody tr th {\n",
       "        vertical-align: top;\n",
       "    }\n",
       "\n",
       "    .dataframe thead tr th {\n",
       "        text-align: left;\n",
       "    }\n",
       "\n",
       "    .dataframe thead tr:last-of-type th {\n",
       "        text-align: right;\n",
       "    }\n",
       "</style>\n",
       "<table border=\"1\" class=\"dataframe\">\n",
       "  <thead>\n",
       "    <tr>\n",
       "      <th></th>\n",
       "      <th colspan=\"8\" halign=\"left\">time</th>\n",
       "      <th colspan=\"2\" halign=\"left\">training_score</th>\n",
       "      <th>...</th>\n",
       "      <th colspan=\"2\" halign=\"left\">is_male</th>\n",
       "      <th colspan=\"8\" halign=\"left\">emp_id</th>\n",
       "    </tr>\n",
       "    <tr>\n",
       "      <th></th>\n",
       "      <th>count</th>\n",
       "      <th>mean</th>\n",
       "      <th>std</th>\n",
       "      <th>min</th>\n",
       "      <th>25%</th>\n",
       "      <th>50%</th>\n",
       "      <th>75%</th>\n",
       "      <th>max</th>\n",
       "      <th>count</th>\n",
       "      <th>mean</th>\n",
       "      <th>...</th>\n",
       "      <th>75%</th>\n",
       "      <th>max</th>\n",
       "      <th>count</th>\n",
       "      <th>mean</th>\n",
       "      <th>std</th>\n",
       "      <th>min</th>\n",
       "      <th>25%</th>\n",
       "      <th>50%</th>\n",
       "      <th>75%</th>\n",
       "      <th>max</th>\n",
       "    </tr>\n",
       "    <tr>\n",
       "      <th>turnover</th>\n",
       "      <th></th>\n",
       "      <th></th>\n",
       "      <th></th>\n",
       "      <th></th>\n",
       "      <th></th>\n",
       "      <th></th>\n",
       "      <th></th>\n",
       "      <th></th>\n",
       "      <th></th>\n",
       "      <th></th>\n",
       "      <th></th>\n",
       "      <th></th>\n",
       "      <th></th>\n",
       "      <th></th>\n",
       "      <th></th>\n",
       "      <th></th>\n",
       "      <th></th>\n",
       "      <th></th>\n",
       "      <th></th>\n",
       "      <th></th>\n",
       "      <th></th>\n",
       "    </tr>\n",
       "  </thead>\n",
       "  <tbody>\n",
       "    <tr>\n",
       "      <th>Left</th>\n",
       "      <td>494.0</td>\n",
       "      <td>19.299595</td>\n",
       "      <td>11.240291</td>\n",
       "      <td>1.0</td>\n",
       "      <td>6.25</td>\n",
       "      <td>20.0</td>\n",
       "      <td>30.0</td>\n",
       "      <td>39.0</td>\n",
       "      <td>494.0</td>\n",
       "      <td>4.210585</td>\n",
       "      <td>...</td>\n",
       "      <td>1.0</td>\n",
       "      <td>1.0</td>\n",
       "      <td>494.0</td>\n",
       "      <td>594.281377</td>\n",
       "      <td>355.624651</td>\n",
       "      <td>6.0</td>\n",
       "      <td>281.25</td>\n",
       "      <td>586.5</td>\n",
       "      <td>925.5</td>\n",
       "      <td>1190.0</td>\n",
       "    </tr>\n",
       "    <tr>\n",
       "      <th>Stayed</th>\n",
       "      <td>33958.0</td>\n",
       "      <td>17.013752</td>\n",
       "      <td>10.302934</td>\n",
       "      <td>1.0</td>\n",
       "      <td>8.00</td>\n",
       "      <td>16.0</td>\n",
       "      <td>26.0</td>\n",
       "      <td>39.0</td>\n",
       "      <td>33958.0</td>\n",
       "      <td>4.500558</td>\n",
       "      <td>...</td>\n",
       "      <td>1.0</td>\n",
       "      <td>1.0</td>\n",
       "      <td>33958.0</td>\n",
       "      <td>599.727546</td>\n",
       "      <td>340.658742</td>\n",
       "      <td>1.0</td>\n",
       "      <td>311.00</td>\n",
       "      <td>604.0</td>\n",
       "      <td>890.0</td>\n",
       "      <td>1191.0</td>\n",
       "    </tr>\n",
       "  </tbody>\n",
       "</table>\n",
       "<p>2 rows × 80 columns</p>\n",
       "</div>"
      ],
      "text/plain": [
       "             time                                                     \\\n",
       "            count       mean        std  min   25%   50%   75%   max   \n",
       "turnover                                                               \n",
       "Left        494.0  19.299595  11.240291  1.0  6.25  20.0  30.0  39.0   \n",
       "Stayed    33958.0  17.013752  10.302934  1.0  8.00  16.0  26.0  39.0   \n",
       "\n",
       "         training_score            ... is_male        emp_id              \\\n",
       "                  count      mean  ...     75%  max    count        mean   \n",
       "turnover                           ...                                     \n",
       "Left              494.0  4.210585  ...     1.0  1.0    494.0  594.281377   \n",
       "Stayed          33958.0  4.500558  ...     1.0  1.0  33958.0  599.727546   \n",
       "\n",
       "                                                         \n",
       "                 std  min     25%    50%    75%     max  \n",
       "turnover                                                 \n",
       "Left      355.624651  6.0  281.25  586.5  925.5  1190.0  \n",
       "Stayed    340.658742  1.0  311.00  604.0  890.0  1191.0  \n",
       "\n",
       "[2 rows x 80 columns]"
      ]
     },
     "execution_count": 70,
     "metadata": {},
     "output_type": "execute_result"
    }
   ],
   "source": [
    "df.groupby('turnover').describe()"
   ]
  },
  {
   "cell_type": "code",
   "execution_count": 71,
   "metadata": {},
   "outputs": [
    {
     "data": {
      "text/plain": [
       "0.014547382060192002"
      ]
     },
     "execution_count": 71,
     "metadata": {},
     "output_type": "execute_result"
    }
   ],
   "source": [
    "494/33958"
   ]
  },
  {
   "cell_type": "code",
   "execution_count": 80,
   "metadata": {},
   "outputs": [
    {
     "data": {
      "text/html": [
       "<div>\n",
       "<style scoped>\n",
       "    .dataframe tbody tr th:only-of-type {\n",
       "        vertical-align: middle;\n",
       "    }\n",
       "\n",
       "    .dataframe tbody tr th {\n",
       "        vertical-align: top;\n",
       "    }\n",
       "\n",
       "    .dataframe thead tr th {\n",
       "        text-align: left;\n",
       "    }\n",
       "\n",
       "    .dataframe thead tr:last-of-type th {\n",
       "        text-align: right;\n",
       "    }\n",
       "</style>\n",
       "<table border=\"1\" class=\"dataframe\">\n",
       "  <thead>\n",
       "    <tr>\n",
       "      <th></th>\n",
       "      <th colspan=\"8\" halign=\"left\">time</th>\n",
       "      <th colspan=\"2\" halign=\"left\">training_score</th>\n",
       "      <th>...</th>\n",
       "      <th colspan=\"2\" halign=\"left\">is_male</th>\n",
       "      <th colspan=\"8\" halign=\"left\">emp_id</th>\n",
       "    </tr>\n",
       "    <tr>\n",
       "      <th></th>\n",
       "      <th>count</th>\n",
       "      <th>mean</th>\n",
       "      <th>std</th>\n",
       "      <th>min</th>\n",
       "      <th>25%</th>\n",
       "      <th>50%</th>\n",
       "      <th>75%</th>\n",
       "      <th>max</th>\n",
       "      <th>count</th>\n",
       "      <th>mean</th>\n",
       "      <th>...</th>\n",
       "      <th>75%</th>\n",
       "      <th>max</th>\n",
       "      <th>count</th>\n",
       "      <th>mean</th>\n",
       "      <th>std</th>\n",
       "      <th>min</th>\n",
       "      <th>25%</th>\n",
       "      <th>50%</th>\n",
       "      <th>75%</th>\n",
       "      <th>max</th>\n",
       "    </tr>\n",
       "    <tr>\n",
       "      <th>turnover</th>\n",
       "      <th></th>\n",
       "      <th></th>\n",
       "      <th></th>\n",
       "      <th></th>\n",
       "      <th></th>\n",
       "      <th></th>\n",
       "      <th></th>\n",
       "      <th></th>\n",
       "      <th></th>\n",
       "      <th></th>\n",
       "      <th></th>\n",
       "      <th></th>\n",
       "      <th></th>\n",
       "      <th></th>\n",
       "      <th></th>\n",
       "      <th></th>\n",
       "      <th></th>\n",
       "      <th></th>\n",
       "      <th></th>\n",
       "      <th></th>\n",
       "      <th></th>\n",
       "    </tr>\n",
       "  </thead>\n",
       "  <tbody>\n",
       "    <tr>\n",
       "      <th>Left</th>\n",
       "      <td>2.0</td>\n",
       "      <td>38.0</td>\n",
       "      <td>0.0</td>\n",
       "      <td>38.0</td>\n",
       "      <td>38.0</td>\n",
       "      <td>38.0</td>\n",
       "      <td>38.0</td>\n",
       "      <td>38.0</td>\n",
       "      <td>2.0</td>\n",
       "      <td>4.319357</td>\n",
       "      <td>...</td>\n",
       "      <td>0.75</td>\n",
       "      <td>1.0</td>\n",
       "      <td>2.0</td>\n",
       "      <td>835.000000</td>\n",
       "      <td>397.394011</td>\n",
       "      <td>554.0</td>\n",
       "      <td>694.5</td>\n",
       "      <td>835.0</td>\n",
       "      <td>975.5</td>\n",
       "      <td>1116.0</td>\n",
       "    </tr>\n",
       "    <tr>\n",
       "      <th>Stayed</th>\n",
       "      <td>141.0</td>\n",
       "      <td>38.0</td>\n",
       "      <td>0.0</td>\n",
       "      <td>38.0</td>\n",
       "      <td>38.0</td>\n",
       "      <td>38.0</td>\n",
       "      <td>38.0</td>\n",
       "      <td>38.0</td>\n",
       "      <td>141.0</td>\n",
       "      <td>4.519943</td>\n",
       "      <td>...</td>\n",
       "      <td>1.00</td>\n",
       "      <td>1.0</td>\n",
       "      <td>141.0</td>\n",
       "      <td>585.680851</td>\n",
       "      <td>328.948049</td>\n",
       "      <td>1.0</td>\n",
       "      <td>299.0</td>\n",
       "      <td>566.0</td>\n",
       "      <td>841.0</td>\n",
       "      <td>1191.0</td>\n",
       "    </tr>\n",
       "  </tbody>\n",
       "</table>\n",
       "<p>2 rows × 80 columns</p>\n",
       "</div>"
      ],
      "text/plain": [
       "           time                                          training_score  \\\n",
       "          count  mean  std   min   25%   50%   75%   max          count   \n",
       "turnover                                                                  \n",
       "Left        2.0  38.0  0.0  38.0  38.0  38.0  38.0  38.0            2.0   \n",
       "Stayed    141.0  38.0  0.0  38.0  38.0  38.0  38.0  38.0          141.0   \n",
       "\n",
       "                    ... is_male      emp_id                                 \\\n",
       "              mean  ...     75%  max  count        mean         std    min   \n",
       "turnover            ...                                                      \n",
       "Left      4.319357  ...    0.75  1.0    2.0  835.000000  397.394011  554.0   \n",
       "Stayed    4.519943  ...    1.00  1.0  141.0  585.680851  328.948049    1.0   \n",
       "\n",
       "                                       \n",
       "            25%    50%    75%     max  \n",
       "turnover                               \n",
       "Left      694.5  835.0  975.5  1116.0  \n",
       "Stayed    299.0  566.0  841.0  1191.0  \n",
       "\n",
       "[2 rows x 80 columns]"
      ]
     },
     "execution_count": 80,
     "metadata": {},
     "output_type": "execute_result"
    }
   ],
   "source": [
    "df[df.time==38].groupby('turnover').describe()"
   ]
  },
  {
   "cell_type": "code",
   "execution_count": 79,
   "metadata": {},
   "outputs": [
    {
     "data": {
      "text/plain": [
       "<bound method Series.unique of 0         1\n",
       "1         2\n",
       "2         3\n",
       "3         4\n",
       "4         5\n",
       "         ..\n",
       "34447    34\n",
       "34448    35\n",
       "34449    36\n",
       "34450    37\n",
       "34451    38\n",
       "Name: time, Length: 34452, dtype: int64>"
      ]
     },
     "execution_count": 79,
     "metadata": {},
     "output_type": "execute_result"
    }
   ],
   "source": [
    "df[\"time\"].unique"
   ]
  },
  {
   "cell_type": "code",
   "execution_count": 142,
   "metadata": {},
   "outputs": [],
   "source": [
    "#### For class\n",
    "df = df.drop(columns=[\"emp_id\"])"
   ]
  },
  {
   "cell_type": "code",
   "execution_count": 143,
   "metadata": {},
   "outputs": [
    {
     "data": {
      "text/html": [
       "<div>\n",
       "<style scoped>\n",
       "    .dataframe tbody tr th:only-of-type {\n",
       "        vertical-align: middle;\n",
       "    }\n",
       "\n",
       "    .dataframe tbody tr th {\n",
       "        vertical-align: top;\n",
       "    }\n",
       "\n",
       "    .dataframe thead th {\n",
       "        text-align: right;\n",
       "    }\n",
       "</style>\n",
       "<table border=\"1\" class=\"dataframe\">\n",
       "  <thead>\n",
       "    <tr style=\"text-align: right;\">\n",
       "      <th></th>\n",
       "      <th>time</th>\n",
       "      <th>training_score</th>\n",
       "      <th>logical_score</th>\n",
       "      <th>verbal_score</th>\n",
       "      <th>avg_literacy</th>\n",
       "      <th>location_age</th>\n",
       "      <th>distance</th>\n",
       "      <th>similar_language</th>\n",
       "      <th>is_male</th>\n",
       "      <th>turnover</th>\n",
       "    </tr>\n",
       "  </thead>\n",
       "  <tbody>\n",
       "    <tr>\n",
       "      <th>0</th>\n",
       "      <td>1</td>\n",
       "      <td>4.840446</td>\n",
       "      <td>5</td>\n",
       "      <td>2</td>\n",
       "      <td>81.05207</td>\n",
       "      <td>6</td>\n",
       "      <td>1.635494</td>\n",
       "      <td>24.11053</td>\n",
       "      <td>1</td>\n",
       "      <td>Stayed</td>\n",
       "    </tr>\n",
       "    <tr>\n",
       "      <th>1</th>\n",
       "      <td>2</td>\n",
       "      <td>4.840446</td>\n",
       "      <td>5</td>\n",
       "      <td>2</td>\n",
       "      <td>81.05207</td>\n",
       "      <td>6</td>\n",
       "      <td>1.635494</td>\n",
       "      <td>24.11053</td>\n",
       "      <td>1</td>\n",
       "      <td>Stayed</td>\n",
       "    </tr>\n",
       "    <tr>\n",
       "      <th>2</th>\n",
       "      <td>3</td>\n",
       "      <td>4.840446</td>\n",
       "      <td>5</td>\n",
       "      <td>2</td>\n",
       "      <td>81.05207</td>\n",
       "      <td>6</td>\n",
       "      <td>1.635494</td>\n",
       "      <td>24.11053</td>\n",
       "      <td>1</td>\n",
       "      <td>Stayed</td>\n",
       "    </tr>\n",
       "    <tr>\n",
       "      <th>3</th>\n",
       "      <td>4</td>\n",
       "      <td>4.840446</td>\n",
       "      <td>5</td>\n",
       "      <td>2</td>\n",
       "      <td>81.05207</td>\n",
       "      <td>6</td>\n",
       "      <td>1.635494</td>\n",
       "      <td>24.11053</td>\n",
       "      <td>1</td>\n",
       "      <td>Stayed</td>\n",
       "    </tr>\n",
       "    <tr>\n",
       "      <th>4</th>\n",
       "      <td>5</td>\n",
       "      <td>4.840446</td>\n",
       "      <td>5</td>\n",
       "      <td>2</td>\n",
       "      <td>81.05207</td>\n",
       "      <td>6</td>\n",
       "      <td>1.635494</td>\n",
       "      <td>24.11053</td>\n",
       "      <td>1</td>\n",
       "      <td>Stayed</td>\n",
       "    </tr>\n",
       "  </tbody>\n",
       "</table>\n",
       "</div>"
      ],
      "text/plain": [
       "   time  training_score  logical_score  verbal_score  avg_literacy  \\\n",
       "0     1        4.840446              5             2      81.05207   \n",
       "1     2        4.840446              5             2      81.05207   \n",
       "2     3        4.840446              5             2      81.05207   \n",
       "3     4        4.840446              5             2      81.05207   \n",
       "4     5        4.840446              5             2      81.05207   \n",
       "\n",
       "   location_age  distance  similar_language  is_male turnover  \n",
       "0             6  1.635494          24.11053        1   Stayed  \n",
       "1             6  1.635494          24.11053        1   Stayed  \n",
       "2             6  1.635494          24.11053        1   Stayed  \n",
       "3             6  1.635494          24.11053        1   Stayed  \n",
       "4             6  1.635494          24.11053        1   Stayed  "
      ]
     },
     "execution_count": 143,
     "metadata": {},
     "output_type": "execute_result"
    }
   ],
   "source": [
    "df.head()"
   ]
  },
  {
   "cell_type": "code",
   "execution_count": 144,
   "metadata": {},
   "outputs": [],
   "source": [
    "#df.loc[df['turnover']=='Stayed', 'turnover'] = 0\n",
    "#df.loc[df['turnover']=='Left', 'turnover'] = 1\n",
    "y = df.turnover\n",
    "X = df.drop(columns=\"turnover\")"
   ]
  },
  {
   "cell_type": "code",
   "execution_count": 145,
   "metadata": {},
   "outputs": [
    {
     "data": {
      "text/html": [
       "<div>\n",
       "<style scoped>\n",
       "    .dataframe tbody tr th:only-of-type {\n",
       "        vertical-align: middle;\n",
       "    }\n",
       "\n",
       "    .dataframe tbody tr th {\n",
       "        vertical-align: top;\n",
       "    }\n",
       "\n",
       "    .dataframe thead th {\n",
       "        text-align: right;\n",
       "    }\n",
       "</style>\n",
       "<table border=\"1\" class=\"dataframe\">\n",
       "  <thead>\n",
       "    <tr style=\"text-align: right;\">\n",
       "      <th></th>\n",
       "      <th>time</th>\n",
       "      <th>training_score</th>\n",
       "      <th>logical_score</th>\n",
       "      <th>verbal_score</th>\n",
       "      <th>avg_literacy</th>\n",
       "      <th>location_age</th>\n",
       "      <th>distance</th>\n",
       "      <th>similar_language</th>\n",
       "      <th>is_male</th>\n",
       "    </tr>\n",
       "  </thead>\n",
       "  <tbody>\n",
       "    <tr>\n",
       "      <th>0</th>\n",
       "      <td>1</td>\n",
       "      <td>4.840446</td>\n",
       "      <td>5</td>\n",
       "      <td>2</td>\n",
       "      <td>81.05207</td>\n",
       "      <td>6</td>\n",
       "      <td>1.635494</td>\n",
       "      <td>24.11053</td>\n",
       "      <td>1</td>\n",
       "    </tr>\n",
       "    <tr>\n",
       "      <th>1</th>\n",
       "      <td>2</td>\n",
       "      <td>4.840446</td>\n",
       "      <td>5</td>\n",
       "      <td>2</td>\n",
       "      <td>81.05207</td>\n",
       "      <td>6</td>\n",
       "      <td>1.635494</td>\n",
       "      <td>24.11053</td>\n",
       "      <td>1</td>\n",
       "    </tr>\n",
       "    <tr>\n",
       "      <th>2</th>\n",
       "      <td>3</td>\n",
       "      <td>4.840446</td>\n",
       "      <td>5</td>\n",
       "      <td>2</td>\n",
       "      <td>81.05207</td>\n",
       "      <td>6</td>\n",
       "      <td>1.635494</td>\n",
       "      <td>24.11053</td>\n",
       "      <td>1</td>\n",
       "    </tr>\n",
       "    <tr>\n",
       "      <th>3</th>\n",
       "      <td>4</td>\n",
       "      <td>4.840446</td>\n",
       "      <td>5</td>\n",
       "      <td>2</td>\n",
       "      <td>81.05207</td>\n",
       "      <td>6</td>\n",
       "      <td>1.635494</td>\n",
       "      <td>24.11053</td>\n",
       "      <td>1</td>\n",
       "    </tr>\n",
       "    <tr>\n",
       "      <th>4</th>\n",
       "      <td>5</td>\n",
       "      <td>4.840446</td>\n",
       "      <td>5</td>\n",
       "      <td>2</td>\n",
       "      <td>81.05207</td>\n",
       "      <td>6</td>\n",
       "      <td>1.635494</td>\n",
       "      <td>24.11053</td>\n",
       "      <td>1</td>\n",
       "    </tr>\n",
       "    <tr>\n",
       "      <th>...</th>\n",
       "      <td>...</td>\n",
       "      <td>...</td>\n",
       "      <td>...</td>\n",
       "      <td>...</td>\n",
       "      <td>...</td>\n",
       "      <td>...</td>\n",
       "      <td>...</td>\n",
       "      <td>...</td>\n",
       "      <td>...</td>\n",
       "    </tr>\n",
       "    <tr>\n",
       "      <th>34447</th>\n",
       "      <td>34</td>\n",
       "      <td>4.525592</td>\n",
       "      <td>5</td>\n",
       "      <td>3</td>\n",
       "      <td>59.80474</td>\n",
       "      <td>9</td>\n",
       "      <td>0.294030</td>\n",
       "      <td>40.82030</td>\n",
       "      <td>1</td>\n",
       "    </tr>\n",
       "    <tr>\n",
       "      <th>34448</th>\n",
       "      <td>35</td>\n",
       "      <td>4.525592</td>\n",
       "      <td>5</td>\n",
       "      <td>3</td>\n",
       "      <td>59.80474</td>\n",
       "      <td>9</td>\n",
       "      <td>0.294030</td>\n",
       "      <td>40.82030</td>\n",
       "      <td>1</td>\n",
       "    </tr>\n",
       "    <tr>\n",
       "      <th>34449</th>\n",
       "      <td>36</td>\n",
       "      <td>4.525592</td>\n",
       "      <td>5</td>\n",
       "      <td>3</td>\n",
       "      <td>59.80474</td>\n",
       "      <td>9</td>\n",
       "      <td>0.294030</td>\n",
       "      <td>40.82030</td>\n",
       "      <td>1</td>\n",
       "    </tr>\n",
       "    <tr>\n",
       "      <th>34450</th>\n",
       "      <td>37</td>\n",
       "      <td>4.525592</td>\n",
       "      <td>5</td>\n",
       "      <td>3</td>\n",
       "      <td>59.80474</td>\n",
       "      <td>9</td>\n",
       "      <td>0.294030</td>\n",
       "      <td>40.82030</td>\n",
       "      <td>1</td>\n",
       "    </tr>\n",
       "    <tr>\n",
       "      <th>34451</th>\n",
       "      <td>38</td>\n",
       "      <td>4.525592</td>\n",
       "      <td>5</td>\n",
       "      <td>3</td>\n",
       "      <td>59.80474</td>\n",
       "      <td>9</td>\n",
       "      <td>0.294030</td>\n",
       "      <td>40.82030</td>\n",
       "      <td>1</td>\n",
       "    </tr>\n",
       "  </tbody>\n",
       "</table>\n",
       "<p>34452 rows × 9 columns</p>\n",
       "</div>"
      ],
      "text/plain": [
       "       time  training_score  logical_score  verbal_score  avg_literacy  \\\n",
       "0         1        4.840446              5             2      81.05207   \n",
       "1         2        4.840446              5             2      81.05207   \n",
       "2         3        4.840446              5             2      81.05207   \n",
       "3         4        4.840446              5             2      81.05207   \n",
       "4         5        4.840446              5             2      81.05207   \n",
       "...     ...             ...            ...           ...           ...   \n",
       "34447    34        4.525592              5             3      59.80474   \n",
       "34448    35        4.525592              5             3      59.80474   \n",
       "34449    36        4.525592              5             3      59.80474   \n",
       "34450    37        4.525592              5             3      59.80474   \n",
       "34451    38        4.525592              5             3      59.80474   \n",
       "\n",
       "       location_age  distance  similar_language  is_male  \n",
       "0                 6  1.635494          24.11053        1  \n",
       "1                 6  1.635494          24.11053        1  \n",
       "2                 6  1.635494          24.11053        1  \n",
       "3                 6  1.635494          24.11053        1  \n",
       "4                 6  1.635494          24.11053        1  \n",
       "...             ...       ...               ...      ...  \n",
       "34447             9  0.294030          40.82030        1  \n",
       "34448             9  0.294030          40.82030        1  \n",
       "34449             9  0.294030          40.82030        1  \n",
       "34450             9  0.294030          40.82030        1  \n",
       "34451             9  0.294030          40.82030        1  \n",
       "\n",
       "[34452 rows x 9 columns]"
      ]
     },
     "execution_count": 145,
     "metadata": {},
     "output_type": "execute_result"
    }
   ],
   "source": [
    "X"
   ]
  },
  {
   "cell_type": "code",
   "execution_count": 146,
   "metadata": {},
   "outputs": [],
   "source": [
    "X_train, X_test, y_train, y_test = train_test_split(X, y, test_size=0.3,\n",
    "                                                   random_state=181)"
   ]
  },
  {
   "cell_type": "code",
   "execution_count": 147,
   "metadata": {},
   "outputs": [],
   "source": [
    "d = DecisionTreeClassifier(max_depth=4).fit(X,y)"
   ]
  },
  {
   "cell_type": "code",
   "execution_count": 148,
   "metadata": {},
   "outputs": [
    {
     "data": {
      "text/plain": [
       "DecisionTreeClassifier(max_depth=1)"
      ]
     },
     "execution_count": 148,
     "metadata": {},
     "output_type": "execute_result"
    }
   ],
   "source": [
    "param_grid = {'max_depth': np.arange(1,100)}\n",
    "clf_cv = GridSearchCV(DecisionTreeClassifier(), param_grid, cv=5).fit(X_train,y_train)\n",
    "clf_cv.best_estimator_"
   ]
  },
  {
   "cell_type": "code",
   "execution_count": 149,
   "metadata": {},
   "outputs": [
    {
     "data": {
      "image/png": "[encoded data removed]",
      "text/plain": [
       "<Figure size 1296x1296 with 1 Axes>"
      ]
     },
     "metadata": {
      "needs_background": "light"
     },
     "output_type": "display_data"
    }
   ],
   "source": [
    "from sklearn import tree\n",
    "fig, ax = plt.subplots(figsize=(18, 18))\n",
    "tree.plot_tree(d, feature_names=list(X_train.columns), fontsize=12,\n",
    "              class_names=['no', 'yes']);"
   ]
  },
  {
   "cell_type": "code",
   "execution_count": 159,
   "metadata": {},
   "outputs": [],
   "source": [
    "pred = clf_cv.predict(X_test)"
   ]
  },
  {
   "cell_type": "code",
   "execution_count": 160,
   "metadata": {},
   "outputs": [],
   "source": [
    "from sklearn.metrics import accuracy_score"
   ]
  },
  {
   "cell_type": "code",
   "execution_count": 161,
   "metadata": {},
   "outputs": [
    {
     "data": {
      "text/plain": [
       "0.982875386996904"
      ]
     },
     "execution_count": 161,
     "metadata": {},
     "output_type": "execute_result"
    }
   ],
   "source": [
    "accuracy_score(pred,y_test)"
   ]
  },
  {
   "cell_type": "code",
   "execution_count": 107,
   "metadata": {},
   "outputs": [
    {
     "data": {
      "text/plain": [
       "count      10336\n",
       "unique         2\n",
       "top       Stayed\n",
       "freq       10176\n",
       "Name: turnover, dtype: object"
      ]
     },
     "execution_count": 107,
     "metadata": {},
     "output_type": "execute_result"
    }
   ],
   "source": [
    "y_test.describe()"
   ]
  },
  {
   "cell_type": "code",
   "execution_count": 108,
   "metadata": {},
   "outputs": [
    {
     "data": {
      "text/plain": [
       "0.9845201238390093"
      ]
     },
     "execution_count": 108,
     "metadata": {},
     "output_type": "execute_result"
    }
   ],
   "source": [
    "10176/10336"
   ]
  },
  {
   "cell_type": "code",
   "execution_count": 158,
   "metadata": {},
   "outputs": [
    {
     "data": {
      "text/plain": [
       "RandomForestClassifier()"
      ]
     },
     "execution_count": 158,
     "metadata": {},
     "output_type": "execute_result"
    }
   ],
   "source": [
    "from sklearn.ensemble import RandomForestClassifier\n",
    "param_grid = {'n_estimators': [100,300,500,700,900], 'max_features': ['auto']}\n",
    "\n",
    "clf_cv = GridSearchCV(RandomForestClassifier(), param_grid, cv=5, n_jobs=-1).fit(X_train,y_train)\n",
    "clf_cv.best_estimator_"
   ]
  },
  {
   "cell_type": "code",
   "execution_count": 153,
   "metadata": {},
   "outputs": [],
   "source": [
    "rf = RandomForestClassifier(class_weight={'Stayed':1,'Left':5}, n_jobs=-1).fit(X_train,y_train)"
   ]
  },
  {
   "cell_type": "code",
   "execution_count": 154,
   "metadata": {},
   "outputs": [
    {
     "data": {
      "text/plain": [
       "0.9825851393188855"
      ]
     },
     "execution_count": 154,
     "metadata": {},
     "output_type": "execute_result"
    }
   ],
   "source": [
    "pred = rf.predict(X_test)\n",
    "accuracy_score(pred,y_test)"
   ]
  },
  {
   "cell_type": "code",
   "execution_count": 155,
   "metadata": {},
   "outputs": [],
   "source": [
    "from sklearn.metrics import confusion_matrix"
   ]
  },
  {
   "cell_type": "code",
   "execution_count": 162,
   "metadata": {},
   "outputs": [
    {
     "data": {
      "text/plain": [
       "array([[    0,    17],\n",
       "       [  160, 10159]])"
      ]
     },
     "execution_count": 162,
     "metadata": {},
     "output_type": "execute_result"
    }
   ],
   "source": [
    "confusion_matrix(pred,y_test)"
   ]
  },
  {
   "cell_type": "code",
   "execution_count": 163,
   "metadata": {},
   "outputs": [
    {
     "data": {
      "image/png": "[encoded data removed]",
      "text/plain": [
       "<Figure size 432x288 with 2 Axes>"
      ]
     },
     "metadata": {
      "needs_background": "light"
     },
     "output_type": "display_data"
    }
   ],
   "source": [
    "from sklearn.metrics import plot_confusion_matrix\n",
    "plot_confusion_matrix(clf_cv, X_test,y_test);"
   ]
  },
  {
   "cell_type": "code",
   "execution_count": 169,
   "metadata": {},
   "outputs": [],
   "source": [
    "def plot_roc(y_predictions,y_true,name,pos_label):\n",
    "    fpr,tpr,thresholds = roc_curve(y_true,y_predictions,pos_label=pos_label)\n",
    "    roc_auc = auc(fpr, tpr)\n",
    "    plt.title(name)\n",
    "    plt.plot(fpr, tpr, 'b', label = 'AUC = %0.4f' % roc_auc)\n",
    "    plt.legend(loc = 'lower right')\n",
    "    plt.plot([0, 1], [0, 1],'r--')\n",
    "    plt.xlim([0, 1])\n",
    "    plt.ylim([0, 1])\n",
    "    plt.ylabel('True Positive Rate')\n",
    "    plt.xlabel('False Positive Rate')\n",
    "    plt.show()"
   ]
  },
  {
   "cell_type": "code",
   "execution_count": 174,
   "metadata": {},
   "outputs": [
    {
     "data": {
      "image/png": "[encoded data removed]",
      "text/plain": [
       "<Figure size 432x288 with 1 Axes>"
      ]
     },
     "metadata": {
      "needs_background": "light"
     },
     "output_type": "display_data"
    }
   ],
   "source": [
    "from sklearn.metrics import plot_roc_curve\n",
    "svc_disp = plot_roc_curve(clf_cv, X_test, y_test)\n",
    "plt.plot([0, 1], [0, 1],'r--')\n",
    "plt.show()"
   ]
  },
  {
   "cell_type": "code",
   "execution_count": 171,
   "metadata": {},
   "outputs": [
    {
     "ename": "TypeError",
     "evalue": "unsupported operand type(s) for -: 'str' and 'str'",
     "output_type": "error",
     "traceback": [
      "\u001b[0;31m---------------------------------------------------------------------------\u001b[0m",
      "\u001b[0;31mTypeError\u001b[0m                                 Traceback (most recent call last)",
      "\u001b[0;32m<ipython-input-171-11248d8a3cd7>\u001b[0m in \u001b[0;36m<module>\u001b[0;34m\u001b[0m\n\u001b[0;32m----> 1\u001b[0;31m \u001b[0mplot_roc\u001b[0m\u001b[0;34m(\u001b[0m\u001b[0mpred\u001b[0m\u001b[0;34m,\u001b[0m\u001b[0my_test\u001b[0m\u001b[0;34m,\u001b[0m\u001b[0;34m\"h\"\u001b[0m\u001b[0;34m,\u001b[0m \u001b[0mpos_label\u001b[0m\u001b[0;34m=\u001b[0m\u001b[0;34m'1 Left'\u001b[0m\u001b[0;34m)\u001b[0m\u001b[0;34m\u001b[0m\u001b[0;34m\u001b[0m\u001b[0m\n\u001b[0m",
      "\u001b[0;32m<ipython-input-169-dc45f8ca7dbf>\u001b[0m in \u001b[0;36mplot_roc\u001b[0;34m(y_predictions, y_true, name, pos_label)\u001b[0m\n\u001b[1;32m      1\u001b[0m \u001b[0;32mdef\u001b[0m \u001b[0mplot_roc\u001b[0m\u001b[0;34m(\u001b[0m\u001b[0my_predictions\u001b[0m\u001b[0;34m,\u001b[0m\u001b[0my_true\u001b[0m\u001b[0;34m,\u001b[0m\u001b[0mname\u001b[0m\u001b[0;34m,\u001b[0m\u001b[0mpos_label\u001b[0m\u001b[0;34m)\u001b[0m\u001b[0;34m:\u001b[0m\u001b[0;34m\u001b[0m\u001b[0;34m\u001b[0m\u001b[0m\n\u001b[0;32m----> 2\u001b[0;31m     \u001b[0mfpr\u001b[0m\u001b[0;34m,\u001b[0m\u001b[0mtpr\u001b[0m\u001b[0;34m,\u001b[0m\u001b[0mthresholds\u001b[0m \u001b[0;34m=\u001b[0m \u001b[0mroc_curve\u001b[0m\u001b[0;34m(\u001b[0m\u001b[0my_true\u001b[0m\u001b[0;34m,\u001b[0m\u001b[0my_predictions\u001b[0m\u001b[0;34m,\u001b[0m\u001b[0mpos_label\u001b[0m\u001b[0;34m=\u001b[0m\u001b[0mpos_label\u001b[0m\u001b[0;34m)\u001b[0m\u001b[0;34m\u001b[0m\u001b[0;34m\u001b[0m\u001b[0m\n\u001b[0m\u001b[1;32m      3\u001b[0m     \u001b[0mroc_auc\u001b[0m \u001b[0;34m=\u001b[0m \u001b[0mauc\u001b[0m\u001b[0;34m(\u001b[0m\u001b[0mfpr\u001b[0m\u001b[0;34m,\u001b[0m \u001b[0mtpr\u001b[0m\u001b[0;34m)\u001b[0m\u001b[0;34m\u001b[0m\u001b[0;34m\u001b[0m\u001b[0m\n\u001b[1;32m      4\u001b[0m     \u001b[0mplt\u001b[0m\u001b[0;34m.\u001b[0m\u001b[0mtitle\u001b[0m\u001b[0;34m(\u001b[0m\u001b[0mname\u001b[0m\u001b[0;34m)\u001b[0m\u001b[0;34m\u001b[0m\u001b[0;34m\u001b[0m\u001b[0m\n\u001b[1;32m      5\u001b[0m     \u001b[0mplt\u001b[0m\u001b[0;34m.\u001b[0m\u001b[0mplot\u001b[0m\u001b[0;34m(\u001b[0m\u001b[0mfpr\u001b[0m\u001b[0;34m,\u001b[0m \u001b[0mtpr\u001b[0m\u001b[0;34m,\u001b[0m \u001b[0;34m'b'\u001b[0m\u001b[0;34m,\u001b[0m \u001b[0mlabel\u001b[0m \u001b[0;34m=\u001b[0m \u001b[0;34m'AUC = %0.4f'\u001b[0m \u001b[0;34m%\u001b[0m \u001b[0mroc_auc\u001b[0m\u001b[0;34m)\u001b[0m\u001b[0;34m\u001b[0m\u001b[0;34m\u001b[0m\u001b[0m\n",
      "\u001b[0;32m~/miniconda3/envs/eemp2020/lib/python3.7/site-packages/sklearn/utils/validation.py\u001b[0m in \u001b[0;36minner_f\u001b[0;34m(*args, **kwargs)\u001b[0m\n\u001b[1;32m     70\u001b[0m                           FutureWarning)\n\u001b[1;32m     71\u001b[0m         \u001b[0mkwargs\u001b[0m\u001b[0;34m.\u001b[0m\u001b[0mupdate\u001b[0m\u001b[0;34m(\u001b[0m\u001b[0;34m{\u001b[0m\u001b[0mk\u001b[0m\u001b[0;34m:\u001b[0m \u001b[0marg\u001b[0m \u001b[0;32mfor\u001b[0m \u001b[0mk\u001b[0m\u001b[0;34m,\u001b[0m \u001b[0marg\u001b[0m \u001b[0;32min\u001b[0m \u001b[0mzip\u001b[0m\u001b[0;34m(\u001b[0m\u001b[0msig\u001b[0m\u001b[0;34m.\u001b[0m\u001b[0mparameters\u001b[0m\u001b[0;34m,\u001b[0m \u001b[0margs\u001b[0m\u001b[0;34m)\u001b[0m\u001b[0;34m}\u001b[0m\u001b[0;34m)\u001b[0m\u001b[0;34m\u001b[0m\u001b[0;34m\u001b[0m\u001b[0m\n\u001b[0;32m---> 72\u001b[0;31m         \u001b[0;32mreturn\u001b[0m \u001b[0mf\u001b[0m\u001b[0;34m(\u001b[0m\u001b[0;34m**\u001b[0m\u001b[0mkwargs\u001b[0m\u001b[0;34m)\u001b[0m\u001b[0;34m\u001b[0m\u001b[0;34m\u001b[0m\u001b[0m\n\u001b[0m\u001b[1;32m     73\u001b[0m     \u001b[0;32mreturn\u001b[0m \u001b[0minner_f\u001b[0m\u001b[0;34m\u001b[0m\u001b[0;34m\u001b[0m\u001b[0m\n\u001b[1;32m     74\u001b[0m \u001b[0;34m\u001b[0m\u001b[0m\n",
      "\u001b[0;32m~/miniconda3/envs/eemp2020/lib/python3.7/site-packages/sklearn/metrics/_ranking.py\u001b[0m in \u001b[0;36mroc_curve\u001b[0;34m(y_true, y_score, pos_label, sample_weight, drop_intermediate)\u001b[0m\n\u001b[1;32m    774\u001b[0m     \"\"\"\n\u001b[1;32m    775\u001b[0m     fps, tps, thresholds = _binary_clf_curve(\n\u001b[0;32m--> 776\u001b[0;31m         y_true, y_score, pos_label=pos_label, sample_weight=sample_weight)\n\u001b[0m\u001b[1;32m    777\u001b[0m \u001b[0;34m\u001b[0m\u001b[0m\n\u001b[1;32m    778\u001b[0m     \u001b[0;31m# Attempt to drop thresholds corresponding to points in between and\u001b[0m\u001b[0;34m\u001b[0m\u001b[0;34m\u001b[0m\u001b[0;34m\u001b[0m\u001b[0m\n",
      "\u001b[0;32m~/miniconda3/envs/eemp2020/lib/python3.7/site-packages/sklearn/metrics/_ranking.py\u001b[0m in \u001b[0;36m_binary_clf_curve\u001b[0;34m(y_true, y_score, pos_label, sample_weight)\u001b[0m\n\u001b[1;32m    584\u001b[0m     \u001b[0;31m# the indices associated with the distinct values. We also\u001b[0m\u001b[0;34m\u001b[0m\u001b[0;34m\u001b[0m\u001b[0;34m\u001b[0m\u001b[0m\n\u001b[1;32m    585\u001b[0m     \u001b[0;31m# concatenate a value for the end of the curve.\u001b[0m\u001b[0;34m\u001b[0m\u001b[0;34m\u001b[0m\u001b[0;34m\u001b[0m\u001b[0m\n\u001b[0;32m--> 586\u001b[0;31m     \u001b[0mdistinct_value_indices\u001b[0m \u001b[0;34m=\u001b[0m \u001b[0mnp\u001b[0m\u001b[0;34m.\u001b[0m\u001b[0mwhere\u001b[0m\u001b[0;34m(\u001b[0m\u001b[0mnp\u001b[0m\u001b[0;34m.\u001b[0m\u001b[0mdiff\u001b[0m\u001b[0;34m(\u001b[0m\u001b[0my_score\u001b[0m\u001b[0;34m)\u001b[0m\u001b[0;34m)\u001b[0m\u001b[0;34m[\u001b[0m\u001b[0;36m0\u001b[0m\u001b[0;34m]\u001b[0m\u001b[0;34m\u001b[0m\u001b[0;34m\u001b[0m\u001b[0m\n\u001b[0m\u001b[1;32m    587\u001b[0m     \u001b[0mthreshold_idxs\u001b[0m \u001b[0;34m=\u001b[0m \u001b[0mnp\u001b[0m\u001b[0;34m.\u001b[0m\u001b[0mr_\u001b[0m\u001b[0;34m[\u001b[0m\u001b[0mdistinct_value_indices\u001b[0m\u001b[0;34m,\u001b[0m \u001b[0my_true\u001b[0m\u001b[0;34m.\u001b[0m\u001b[0msize\u001b[0m \u001b[0;34m-\u001b[0m \u001b[0;36m1\u001b[0m\u001b[0;34m]\u001b[0m\u001b[0;34m\u001b[0m\u001b[0;34m\u001b[0m\u001b[0m\n\u001b[1;32m    588\u001b[0m \u001b[0;34m\u001b[0m\u001b[0m\n",
      "\u001b[0;32m<__array_function__ internals>\u001b[0m in \u001b[0;36mdiff\u001b[0;34m(*args, **kwargs)\u001b[0m\n",
      "\u001b[0;32m~/miniconda3/envs/eemp2020/lib/python3.7/site-packages/numpy/lib/function_base.py\u001b[0m in \u001b[0;36mdiff\u001b[0;34m(a, n, axis, prepend, append)\u001b[0m\n\u001b[1;32m   1278\u001b[0m     \u001b[0mop\u001b[0m \u001b[0;34m=\u001b[0m \u001b[0mnot_equal\u001b[0m \u001b[0;32mif\u001b[0m \u001b[0ma\u001b[0m\u001b[0;34m.\u001b[0m\u001b[0mdtype\u001b[0m \u001b[0;34m==\u001b[0m \u001b[0mnp\u001b[0m\u001b[0;34m.\u001b[0m\u001b[0mbool_\u001b[0m \u001b[0;32melse\u001b[0m \u001b[0msubtract\u001b[0m\u001b[0;34m\u001b[0m\u001b[0;34m\u001b[0m\u001b[0m\n\u001b[1;32m   1279\u001b[0m     \u001b[0;32mfor\u001b[0m \u001b[0m_\u001b[0m \u001b[0;32min\u001b[0m \u001b[0mrange\u001b[0m\u001b[0;34m(\u001b[0m\u001b[0mn\u001b[0m\u001b[0;34m)\u001b[0m\u001b[0;34m:\u001b[0m\u001b[0;34m\u001b[0m\u001b[0;34m\u001b[0m\u001b[0m\n\u001b[0;32m-> 1280\u001b[0;31m         \u001b[0ma\u001b[0m \u001b[0;34m=\u001b[0m \u001b[0mop\u001b[0m\u001b[0;34m(\u001b[0m\u001b[0ma\u001b[0m\u001b[0;34m[\u001b[0m\u001b[0mslice1\u001b[0m\u001b[0;34m]\u001b[0m\u001b[0;34m,\u001b[0m \u001b[0ma\u001b[0m\u001b[0;34m[\u001b[0m\u001b[0mslice2\u001b[0m\u001b[0;34m]\u001b[0m\u001b[0;34m)\u001b[0m\u001b[0;34m\u001b[0m\u001b[0;34m\u001b[0m\u001b[0m\n\u001b[0m\u001b[1;32m   1281\u001b[0m \u001b[0;34m\u001b[0m\u001b[0m\n\u001b[1;32m   1282\u001b[0m     \u001b[0;32mreturn\u001b[0m \u001b[0ma\u001b[0m\u001b[0;34m\u001b[0m\u001b[0;34m\u001b[0m\u001b[0m\n",
      "\u001b[0;31mTypeError\u001b[0m: unsupported operand type(s) for -: 'str' and 'str'"
     ]
    }
   ],
   "source": [
    "plot_roc(pred,y_test,\"h\", pos_label='1 Left')"
   ]
  },
  {
   "cell_type": "code",
   "execution_count": 114,
   "metadata": {},
   "outputs": [
    {
     "data": {
      "text/plain": [
       "0.9691463108208493"
      ]
     },
     "execution_count": 114,
     "metadata": {},
     "output_type": "execute_result"
    }
   ],
   "source": [
    "clf_cv.best_score_"
   ]
  },
  {
   "cell_type": "code",
   "execution_count": 127,
   "metadata": {},
   "outputs": [
    {
     "data": {
      "text/plain": [
       "0.9847136222910217"
      ]
     },
     "execution_count": 127,
     "metadata": {},
     "output_type": "execute_result"
    }
   ],
   "source": [
    "pred = clf_cv.predict(X_test)\n",
    "accuracy_score(pred,y_test)"
   ]
  },
  {
   "cell_type": "code",
   "execution_count": 128,
   "metadata": {},
   "outputs": [
    {
     "data": {
      "text/plain": [
       "array([[    2,     0],\n",
       "       [  158, 10176]])"
      ]
     },
     "execution_count": 128,
     "metadata": {},
     "output_type": "execute_result"
    }
   ],
   "source": [
    "confusion_matrix(pred,y_test)"
   ]
  },
  {
   "cell_type": "code",
   "execution_count": 112,
   "metadata": {},
   "outputs": [
    {
     "data": {
      "text/plain": [
       "1.0001965408805031"
      ]
     },
     "execution_count": 112,
     "metadata": {},
     "output_type": "execute_result"
    }
   ],
   "source": [
    "0.9847136222910217/0.9845201238390093"
   ]
  },
  {
   "cell_type": "code",
   "execution_count": 183,
   "metadata": {},
   "outputs": [],
   "source": [
    "from sklearn.linear_model import LogisticRegression\n",
    "log = LogisticRegression().fit(X_train,y_train)"
   ]
  },
  {
   "cell_type": "code",
   "execution_count": 184,
   "metadata": {},
   "outputs": [
    {
     "data": {
      "text/plain": [
       "0.9845201238390093"
      ]
     },
     "execution_count": 184,
     "metadata": {},
     "output_type": "execute_result"
    }
   ],
   "source": [
    "pred = log.predict(X_test)\n",
    "accuracy_score(pred,y_test)"
   ]
  },
  {
   "cell_type": "code",
   "execution_count": 176,
   "metadata": {},
   "outputs": [
    {
     "data": {
      "text/plain": [
       "{'min_samples_leaf': 41,\n",
       " 'min_impurity_decrease': 0.00048747935055342144,\n",
       " 'max_features': None,\n",
       " 'max_depth': 6,\n",
       " 'criterion': 'entropy'}"
      ]
     },
     "execution_count": 176,
     "metadata": {},
     "output_type": "execute_result"
    }
   ],
   "source": [
    "from sklearn.model_selection import RandomizedSearchCV\n",
    "random_grid = {'criterion': ['entropy'],\n",
    "               'max_depth': np.unique( np.exp(np.linspace(0, 10, 100)).astype(int) ),\n",
    "               'min_samples_leaf': np.unique( np.exp(np.linspace(0, 8, 100)).astype(int) ),\n",
    "               'max_features': [None,'auto','log2'],\n",
    "               'min_impurity_decrease': np.exp(np.linspace(-9, -1, 100))}\n",
    "\n",
    "rf_random_search = RandomizedSearchCV(estimator = RandomForestClassifier(n_estimators=100), \n",
    "                                      param_distributions = random_grid,\n",
    "                                      random_state=345, n_iter = 100,\n",
    "                                      scoring='neg_log_loss',n_jobs=-1,\n",
    "                                      cv =10,return_train_score=True)\n",
    "rf_random_search.fit(X=X_train,y=y_train)\n",
    "rf_random_search.best_params_"
   ]
  },
  {
   "cell_type": "code",
   "execution_count": 177,
   "metadata": {},
   "outputs": [],
   "source": [
    "rf = rf_random_search.best_estimator_"
   ]
  },
  {
   "cell_type": "code",
   "execution_count": 178,
   "metadata": {},
   "outputs": [],
   "source": [
    "randomforest_test_pred = rf.predict_proba(X_test)[:,1]"
   ]
  },
  {
   "cell_type": "code",
   "execution_count": 179,
   "metadata": {},
   "outputs": [
    {
     "name": "stdout",
     "output_type": "stream",
     "text": [
      "Test Loss: 0.0713\n"
     ]
    }
   ],
   "source": [
    "test_loss_rf = log_loss(y_test.values,randomforest_test_pred)\n",
    "print(\"Test Loss: %0.4f\" % test_loss_rf)"
   ]
  },
  {
   "cell_type": "code",
   "execution_count": 180,
   "metadata": {},
   "outputs": [
    {
     "data": {
      "image/png": "[encoded data removed]",
      "text/plain": [
       "<Figure size 432x288 with 1 Axes>"
      ]
     },
     "metadata": {
      "needs_background": "light"
     },
     "output_type": "display_data"
    }
   ],
   "source": [
    "rf_disp = plot_roc_curve(rf, X_test, y_test)\n",
    "plt.plot([0, 1], [0, 1],'r--')\n",
    "plt.show()"
   ]
  },
  {
   "cell_type": "code",
   "execution_count": 189,
   "metadata": {},
   "outputs": [
    {
     "data": {
      "image/png": "[encoded data removed]",
      "text/plain": [
       "<Figure size 432x288 with 1 Axes>"
      ]
     },
     "metadata": {
      "needs_background": "light"
     },
     "output_type": "display_data"
    }
   ],
   "source": [
    "importances = rf.feature_importances_\n",
    "\n",
    "plt.figure()\n",
    "plt.title(\"Feature importances\")\n",
    "plt.bar(range(X.shape[1]), importances,\n",
    "       color=\"b\", align=\"center\")\n",
    "plt.xticks(range(X.shape[1]), cols,rotation=90)\n",
    "plt.xlim([-1, X.shape[1]])\n",
    "plt.show()"
   ]
  },
  {
   "cell_type": "code",
   "execution_count": 181,
   "metadata": {},
   "outputs": [
    {
     "data": {
      "text/plain": [
       "0.9845201238390093"
      ]
     },
     "execution_count": 181,
     "metadata": {},
     "output_type": "execute_result"
    }
   ],
   "source": [
    "pred = rf.predict(X_test)\n",
    "accuracy_score(pred,y_test)"
   ]
  },
  {
   "cell_type": "code",
   "execution_count": 185,
   "metadata": {},
   "outputs": [
    {
     "data": {
      "image/png": "[encoded data removed]",
      "text/plain": [
       "<Figure size 432x288 with 1 Axes>"
      ]
     },
     "metadata": {
      "needs_background": "light"
     },
     "output_type": "display_data"
    }
   ],
   "source": [
    "log_disp = plot_roc_curve(log, X_test, y_test)\n",
    "plt.plot([0, 1], [0, 1],'r--')\n",
    "plt.show()"
   ]
  },
  {
   "cell_type": "code",
   "execution_count": 186,
   "metadata": {},
   "outputs": [
    {
     "data": {
      "image/png": "[encoded data removed]",
      "text/plain": [
       "<Figure size 432x288 with 1 Axes>"
      ]
     },
     "metadata": {
      "needs_background": "light"
     },
     "output_type": "display_data"
    }
   ],
   "source": [
    "dt = DecisionTreeClassifier(max_depth=1).fit(X_train,y_train)\n",
    "dt_disp = plot_roc_curve(dt, X_test, y_test)\n",
    "plt.plot([0, 1], [0, 1],'r--')\n",
    "plt.show()"
   ]
  },
  {
   "cell_type": "code",
   "execution_count": 187,
   "metadata": {},
   "outputs": [
    {
     "data": {
      "image/png": "[encoded data removed]",
      "text/plain": [
       "<Figure size 432x288 with 2 Axes>"
      ]
     },
     "metadata": {
      "needs_background": "light"
     },
     "output_type": "display_data"
    }
   ],
   "source": [
    "plot_confusion_matrix(rf, X_test,y_test);"
   ]
  },
  {
   "cell_type": "code",
   "execution_count": 188,
   "metadata": {},
   "outputs": [
    {
     "data": {
      "image/png": "[encoded data removed]",
      "text/plain": [
       "<Figure size 432x288 with 2 Axes>"
      ]
     },
     "metadata": {
      "needs_background": "light"
     },
     "output_type": "display_data"
    }
   ],
   "source": [
    "plot_confusion_matrix(log, X_test,y_test);"
   ]
  },
  {
   "cell_type": "code",
   "execution_count": null,
   "metadata": {},
   "outputs": [],
   "source": []
  }
 ],
 "metadata": {
  "kernelspec": {
   "display_name": "eemp2020",
   "language": "python",
   "name": "eemp2020"
  },
  "language_info": {
   "codemirror_mode": {
    "name": "ipython",
    "version": 3
   },
   "file_extension": ".py",
   "mimetype": "text/x-python",
   "name": "python",
   "nbconvert_exporter": "python",
   "pygments_lexer": "ipython3",
   "version": "3.7.9"
  }
 },
 "nbformat": 4,
 "nbformat_minor": 4
}
