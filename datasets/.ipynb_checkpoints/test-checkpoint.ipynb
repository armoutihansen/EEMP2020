{
 "cells": [
  {
   "cell_type": "code",
   "execution_count": 1,
   "metadata": {},
   "outputs": [
    {
     "name": "stdout",
     "output_type": "stream",
     "text": [
      "/home/jah/miniconda3/envs/eemp2020/bin/python\r\n"
     ]
    }
   ],
   "source": [
    "!which python"
   ]
  },
  {
   "cell_type": "code",
   "execution_count": 23,
   "metadata": {},
   "outputs": [],
   "source": [
    "# NUMPY / PANDAS\n",
    "import numpy as np\n",
    "import pandas as pd\n",
    "\n",
    "# SCI-KIT LEARN\n",
    "import sklearn\n",
    "from sklearn.model_selection import (GroupKFold, GroupShuffleSplit, cross_validate, \n",
    "                                       RandomizedSearchCV,GridSearchCV)\n",
    "from sklearn.linear_model import LogisticRegression\n",
    "from sklearn.tree import DecisionTreeClassifier\n",
    "import sklearn.tree as tree\n",
    "from sklearn.ensemble import RandomForestClassifier\n",
    "from sklearn.neural_network import MLPClassifier\n",
    "from sklearn.preprocessing import StandardScaler,OneHotEncoder\n",
    "from sklearn.pipeline import make_pipeline\n",
    "from sklearn.compose import ColumnTransformer, make_column_transformer\n",
    "from sklearn.metrics import log_loss, roc_curve, auc\n",
    "\n",
    "#PDPbox\n",
    "from pdpbox import pdp\n",
    "\n",
    "# MATPLOTLIB\n",
    "%matplotlib inline\n",
    "import matplotlib\n",
    "import matplotlib.pyplot as plt\n",
    "\n",
    "# OTHER\n",
    "from itertools import product\n",
    "import copy\n",
    "import graphviz\n",
    "\n",
    "#Ignore warnings\n",
    "import warnings\n",
    "warnings.filterwarnings('ignore')"
   ]
  },
  {
   "cell_type": "code",
   "execution_count": 24,
   "metadata": {},
   "outputs": [],
   "source": [
    "df = pd.read_csv(\"simulated_TECHCO_data.csv\")"
   ]
  },
  {
   "cell_type": "code",
   "execution_count": 9,
   "metadata": {},
   "outputs": [
    {
     "data": {
      "text/html": [
       "<div>\n",
       "<style scoped>\n",
       "    .dataframe tbody tr th:only-of-type {\n",
       "        vertical-align: middle;\n",
       "    }\n",
       "\n",
       "    .dataframe tbody tr th {\n",
       "        vertical-align: top;\n",
       "    }\n",
       "\n",
       "    .dataframe thead th {\n",
       "        text-align: right;\n",
       "    }\n",
       "</style>\n",
       "<table border=\"1\" class=\"dataframe\">\n",
       "  <thead>\n",
       "    <tr style=\"text-align: right;\">\n",
       "      <th></th>\n",
       "      <th>time</th>\n",
       "      <th>training_score</th>\n",
       "      <th>logical_score</th>\n",
       "      <th>verbal_score</th>\n",
       "      <th>avg_literacy</th>\n",
       "      <th>location_age</th>\n",
       "      <th>distance</th>\n",
       "      <th>similar_language</th>\n",
       "      <th>is_male</th>\n",
       "      <th>emp_id</th>\n",
       "      <th>turnover</th>\n",
       "    </tr>\n",
       "  </thead>\n",
       "  <tbody>\n",
       "    <tr>\n",
       "      <th>0</th>\n",
       "      <td>1</td>\n",
       "      <td>4.840446</td>\n",
       "      <td>5</td>\n",
       "      <td>2</td>\n",
       "      <td>81.05207</td>\n",
       "      <td>6</td>\n",
       "      <td>1.635494</td>\n",
       "      <td>24.11053</td>\n",
       "      <td>1</td>\n",
       "      <td>1</td>\n",
       "      <td>Stayed</td>\n",
       "    </tr>\n",
       "    <tr>\n",
       "      <th>1</th>\n",
       "      <td>2</td>\n",
       "      <td>4.840446</td>\n",
       "      <td>5</td>\n",
       "      <td>2</td>\n",
       "      <td>81.05207</td>\n",
       "      <td>6</td>\n",
       "      <td>1.635494</td>\n",
       "      <td>24.11053</td>\n",
       "      <td>1</td>\n",
       "      <td>1</td>\n",
       "      <td>Stayed</td>\n",
       "    </tr>\n",
       "    <tr>\n",
       "      <th>2</th>\n",
       "      <td>3</td>\n",
       "      <td>4.840446</td>\n",
       "      <td>5</td>\n",
       "      <td>2</td>\n",
       "      <td>81.05207</td>\n",
       "      <td>6</td>\n",
       "      <td>1.635494</td>\n",
       "      <td>24.11053</td>\n",
       "      <td>1</td>\n",
       "      <td>1</td>\n",
       "      <td>Stayed</td>\n",
       "    </tr>\n",
       "    <tr>\n",
       "      <th>3</th>\n",
       "      <td>4</td>\n",
       "      <td>4.840446</td>\n",
       "      <td>5</td>\n",
       "      <td>2</td>\n",
       "      <td>81.05207</td>\n",
       "      <td>6</td>\n",
       "      <td>1.635494</td>\n",
       "      <td>24.11053</td>\n",
       "      <td>1</td>\n",
       "      <td>1</td>\n",
       "      <td>Stayed</td>\n",
       "    </tr>\n",
       "    <tr>\n",
       "      <th>4</th>\n",
       "      <td>5</td>\n",
       "      <td>4.840446</td>\n",
       "      <td>5</td>\n",
       "      <td>2</td>\n",
       "      <td>81.05207</td>\n",
       "      <td>6</td>\n",
       "      <td>1.635494</td>\n",
       "      <td>24.11053</td>\n",
       "      <td>1</td>\n",
       "      <td>1</td>\n",
       "      <td>Stayed</td>\n",
       "    </tr>\n",
       "  </tbody>\n",
       "</table>\n",
       "</div>"
      ],
      "text/plain": [
       "   time  training_score  logical_score  verbal_score  avg_literacy  \\\n",
       "0     1        4.840446              5             2      81.05207   \n",
       "1     2        4.840446              5             2      81.05207   \n",
       "2     3        4.840446              5             2      81.05207   \n",
       "3     4        4.840446              5             2      81.05207   \n",
       "4     5        4.840446              5             2      81.05207   \n",
       "\n",
       "   location_age  distance  similar_language  is_male  emp_id turnover  \n",
       "0             6  1.635494          24.11053        1       1   Stayed  \n",
       "1             6  1.635494          24.11053        1       1   Stayed  \n",
       "2             6  1.635494          24.11053        1       1   Stayed  \n",
       "3             6  1.635494          24.11053        1       1   Stayed  \n",
       "4             6  1.635494          24.11053        1       1   Stayed  "
      ]
     },
     "execution_count": 9,
     "metadata": {},
     "output_type": "execute_result"
    }
   ],
   "source": [
    "df.head()"
   ]
  },
  {
   "cell_type": "code",
   "execution_count": 10,
   "metadata": {},
   "outputs": [],
   "source": [
    "df.time = df.time.astype(int)\n",
    "df.is_male = df.is_male.astype(int)"
   ]
  },
  {
   "cell_type": "code",
   "execution_count": 11,
   "metadata": {},
   "outputs": [],
   "source": [
    "df.set_index(['emp_id','time'],drop=False,inplace=True)"
   ]
  },
  {
   "cell_type": "code",
   "execution_count": 19,
   "metadata": {},
   "outputs": [
    {
     "data": {
      "text/html": [
       "<div>\n",
       "<style scoped>\n",
       "    .dataframe tbody tr th:only-of-type {\n",
       "        vertical-align: middle;\n",
       "    }\n",
       "\n",
       "    .dataframe tbody tr th {\n",
       "        vertical-align: top;\n",
       "    }\n",
       "\n",
       "    .dataframe thead th {\n",
       "        text-align: right;\n",
       "    }\n",
       "</style>\n",
       "<table border=\"1\" class=\"dataframe\">\n",
       "  <thead>\n",
       "    <tr style=\"text-align: right;\">\n",
       "      <th></th>\n",
       "      <th>time</th>\n",
       "      <th>training_score</th>\n",
       "      <th>logical_score</th>\n",
       "      <th>verbal_score</th>\n",
       "      <th>avg_literacy</th>\n",
       "      <th>location_age</th>\n",
       "      <th>distance</th>\n",
       "      <th>similar_language</th>\n",
       "      <th>is_male</th>\n",
       "      <th>emp_id</th>\n",
       "    </tr>\n",
       "  </thead>\n",
       "  <tbody>\n",
       "    <tr>\n",
       "      <th>count</th>\n",
       "      <td>34452.000000</td>\n",
       "      <td>34452.000000</td>\n",
       "      <td>34452.000000</td>\n",
       "      <td>34452.000000</td>\n",
       "      <td>34452.000000</td>\n",
       "      <td>34452.000000</td>\n",
       "      <td>34452.000000</td>\n",
       "      <td>34452.000000</td>\n",
       "      <td>34452.000000</td>\n",
       "      <td>34452.000000</td>\n",
       "    </tr>\n",
       "    <tr>\n",
       "      <th>mean</th>\n",
       "      <td>17.046529</td>\n",
       "      <td>4.496400</td>\n",
       "      <td>4.373999</td>\n",
       "      <td>4.650615</td>\n",
       "      <td>75.583604</td>\n",
       "      <td>15.344276</td>\n",
       "      <td>0.833396</td>\n",
       "      <td>59.186507</td>\n",
       "      <td>0.567804</td>\n",
       "      <td>599.649454</td>\n",
       "    </tr>\n",
       "    <tr>\n",
       "      <th>std</th>\n",
       "      <td>10.320377</td>\n",
       "      <td>0.435643</td>\n",
       "      <td>3.905698</td>\n",
       "      <td>4.472608</td>\n",
       "      <td>9.196516</td>\n",
       "      <td>7.919007</td>\n",
       "      <td>0.762817</td>\n",
       "      <td>35.286223</td>\n",
       "      <td>0.495388</td>\n",
       "      <td>340.873215</td>\n",
       "    </tr>\n",
       "    <tr>\n",
       "      <th>min</th>\n",
       "      <td>1.000000</td>\n",
       "      <td>2.688673</td>\n",
       "      <td>-5.000000</td>\n",
       "      <td>-7.000000</td>\n",
       "      <td>49.354540</td>\n",
       "      <td>2.000000</td>\n",
       "      <td>0.000000</td>\n",
       "      <td>1.250000</td>\n",
       "      <td>0.000000</td>\n",
       "      <td>1.000000</td>\n",
       "    </tr>\n",
       "    <tr>\n",
       "      <th>25%</th>\n",
       "      <td>8.000000</td>\n",
       "      <td>4.263266</td>\n",
       "      <td>1.000000</td>\n",
       "      <td>1.000000</td>\n",
       "      <td>68.548850</td>\n",
       "      <td>9.000000</td>\n",
       "      <td>0.191342</td>\n",
       "      <td>27.132500</td>\n",
       "      <td>0.000000</td>\n",
       "      <td>311.000000</td>\n",
       "    </tr>\n",
       "    <tr>\n",
       "      <th>50%</th>\n",
       "      <td>16.000000</td>\n",
       "      <td>4.578397</td>\n",
       "      <td>4.000000</td>\n",
       "      <td>4.000000</td>\n",
       "      <td>77.009510</td>\n",
       "      <td>11.000000</td>\n",
       "      <td>0.589657</td>\n",
       "      <td>49.118420</td>\n",
       "      <td>1.000000</td>\n",
       "      <td>603.000000</td>\n",
       "    </tr>\n",
       "    <tr>\n",
       "      <th>75%</th>\n",
       "      <td>26.000000</td>\n",
       "      <td>4.829628</td>\n",
       "      <td>8.000000</td>\n",
       "      <td>8.000000</td>\n",
       "      <td>82.778083</td>\n",
       "      <td>24.000000</td>\n",
       "      <td>1.316585</td>\n",
       "      <td>98.816540</td>\n",
       "      <td>1.000000</td>\n",
       "      <td>890.000000</td>\n",
       "    </tr>\n",
       "    <tr>\n",
       "      <th>max</th>\n",
       "      <td>39.000000</td>\n",
       "      <td>5.110679</td>\n",
       "      <td>12.000000</td>\n",
       "      <td>17.000000</td>\n",
       "      <td>97.357410</td>\n",
       "      <td>28.000000</td>\n",
       "      <td>3.200019</td>\n",
       "      <td>100.000000</td>\n",
       "      <td>1.000000</td>\n",
       "      <td>1191.000000</td>\n",
       "    </tr>\n",
       "  </tbody>\n",
       "</table>\n",
       "</div>"
      ],
      "text/plain": [
       "               time  training_score  logical_score  verbal_score  \\\n",
       "count  34452.000000    34452.000000   34452.000000  34452.000000   \n",
       "mean      17.046529        4.496400       4.373999      4.650615   \n",
       "std       10.320377        0.435643       3.905698      4.472608   \n",
       "min        1.000000        2.688673      -5.000000     -7.000000   \n",
       "25%        8.000000        4.263266       1.000000      1.000000   \n",
       "50%       16.000000        4.578397       4.000000      4.000000   \n",
       "75%       26.000000        4.829628       8.000000      8.000000   \n",
       "max       39.000000        5.110679      12.000000     17.000000   \n",
       "\n",
       "       avg_literacy  location_age      distance  similar_language  \\\n",
       "count  34452.000000  34452.000000  34452.000000      34452.000000   \n",
       "mean      75.583604     15.344276      0.833396         59.186507   \n",
       "std        9.196516      7.919007      0.762817         35.286223   \n",
       "min       49.354540      2.000000      0.000000          1.250000   \n",
       "25%       68.548850      9.000000      0.191342         27.132500   \n",
       "50%       77.009510     11.000000      0.589657         49.118420   \n",
       "75%       82.778083     24.000000      1.316585         98.816540   \n",
       "max       97.357410     28.000000      3.200019        100.000000   \n",
       "\n",
       "            is_male        emp_id  \n",
       "count  34452.000000  34452.000000  \n",
       "mean       0.567804    599.649454  \n",
       "std        0.495388    340.873215  \n",
       "min        0.000000      1.000000  \n",
       "25%        0.000000    311.000000  \n",
       "50%        1.000000    603.000000  \n",
       "75%        1.000000    890.000000  \n",
       "max        1.000000   1191.000000  "
      ]
     },
     "execution_count": 19,
     "metadata": {},
     "output_type": "execute_result"
    }
   ],
   "source": [
    "df.head()\n",
    "df.describe()"
   ]
  },
  {
   "cell_type": "code",
   "execution_count": 14,
   "metadata": {},
   "outputs": [
    {
     "data": {
      "text/plain": [
       "emp_id  time\n",
       "1       1       0 Stayed\n",
       "        2       0 Stayed\n",
       "        3       0 Stayed\n",
       "        4       0 Stayed\n",
       "        5       0 Stayed\n",
       "                  ...   \n",
       "1191    34      0 Stayed\n",
       "        35      0 Stayed\n",
       "        36      0 Stayed\n",
       "        37      0 Stayed\n",
       "        38      0 Stayed\n",
       "Name: turnover, Length: 34452, dtype: object"
      ]
     },
     "execution_count": 14,
     "metadata": {},
     "output_type": "execute_result"
    }
   ],
   "source": [
    "df.loc[df['turnover']=='Stayed', 'turnover'] = '0 Stayed'\n",
    "df.loc[df['turnover']=='Left', 'turnover'] = '1 Left'\n",
    "df.turnover\n",
    "#y = df.turnover"
   ]
  },
  {
   "cell_type": "code",
   "execution_count": 15,
   "metadata": {},
   "outputs": [],
   "source": [
    "X = df.drop(['turnover'],axis=1)\n",
    "cols = [\"time\",\"training_score\",\"avg_literacy\",\"is_male\",\"logical_score\",\"verbal_score\",\"location_age\",\"distance\",\"similar_language\"]\n",
    "X = X[cols]"
   ]
  },
  {
   "cell_type": "code",
   "execution_count": 16,
   "metadata": {},
   "outputs": [],
   "source": [
    "train_inds, test_inds = next(GroupShuffleSplit(test_size=.3,random_state=111).split(X,y,groups=df.emp_id))"
   ]
  },
  {
   "cell_type": "code",
   "execution_count": 17,
   "metadata": {},
   "outputs": [],
   "source": [
    "X_train, X_test = X.iloc[train_inds], X.iloc[test_inds]\n",
    "y_train, y_test = y.iloc[train_inds], y.iloc[test_inds]\n",
    "employee_train = df.emp_id.iloc[train_inds]"
   ]
  },
  {
   "cell_type": "code",
   "execution_count": 18,
   "metadata": {},
   "outputs": [],
   "source": [
    "folds = list(GroupKFold(n_splits=10).split(X_train,y_train,employee_train))"
   ]
  },
  {
   "cell_type": "code",
   "execution_count": 64,
   "metadata": {},
   "outputs": [],
   "source": [
    "df_small = df[df.time == 2].drop(columns=\"time\")"
   ]
  },
  {
   "cell_type": "code",
   "execution_count": 65,
   "metadata": {},
   "outputs": [
    {
     "data": {
      "text/html": [
       "<div>\n",
       "<style scoped>\n",
       "    .dataframe tbody tr th:only-of-type {\n",
       "        vertical-align: middle;\n",
       "    }\n",
       "\n",
       "    .dataframe tbody tr th {\n",
       "        vertical-align: top;\n",
       "    }\n",
       "\n",
       "    .dataframe thead th {\n",
       "        text-align: right;\n",
       "    }\n",
       "</style>\n",
       "<table border=\"1\" class=\"dataframe\">\n",
       "  <thead>\n",
       "    <tr style=\"text-align: right;\">\n",
       "      <th></th>\n",
       "      <th>training_score</th>\n",
       "      <th>logical_score</th>\n",
       "      <th>verbal_score</th>\n",
       "      <th>avg_literacy</th>\n",
       "      <th>location_age</th>\n",
       "      <th>distance</th>\n",
       "      <th>similar_language</th>\n",
       "      <th>is_male</th>\n",
       "      <th>emp_id</th>\n",
       "    </tr>\n",
       "  </thead>\n",
       "  <tbody>\n",
       "    <tr>\n",
       "      <th>count</th>\n",
       "      <td>1186.000000</td>\n",
       "      <td>1186.000000</td>\n",
       "      <td>1186.000000</td>\n",
       "      <td>1186.000000</td>\n",
       "      <td>1186.000000</td>\n",
       "      <td>1186.000000</td>\n",
       "      <td>1186.000000</td>\n",
       "      <td>1186.000000</td>\n",
       "      <td>1186.000000</td>\n",
       "    </tr>\n",
       "    <tr>\n",
       "      <th>mean</th>\n",
       "      <td>4.396676</td>\n",
       "      <td>4.465430</td>\n",
       "      <td>4.650927</td>\n",
       "      <td>75.685801</td>\n",
       "      <td>15.258010</td>\n",
       "      <td>0.817418</td>\n",
       "      <td>59.563997</td>\n",
       "      <td>0.566610</td>\n",
       "      <td>595.596965</td>\n",
       "    </tr>\n",
       "    <tr>\n",
       "      <th>std</th>\n",
       "      <td>0.541748</td>\n",
       "      <td>3.926442</td>\n",
       "      <td>4.438372</td>\n",
       "      <td>9.267688</td>\n",
       "      <td>7.933641</td>\n",
       "      <td>0.751528</td>\n",
       "      <td>35.323193</td>\n",
       "      <td>0.495752</td>\n",
       "      <td>344.228100</td>\n",
       "    </tr>\n",
       "    <tr>\n",
       "      <th>min</th>\n",
       "      <td>2.688673</td>\n",
       "      <td>-5.000000</td>\n",
       "      <td>-7.000000</td>\n",
       "      <td>49.354540</td>\n",
       "      <td>2.000000</td>\n",
       "      <td>0.000000</td>\n",
       "      <td>1.250000</td>\n",
       "      <td>0.000000</td>\n",
       "      <td>1.000000</td>\n",
       "    </tr>\n",
       "    <tr>\n",
       "      <th>25%</th>\n",
       "      <td>4.181925</td>\n",
       "      <td>1.000000</td>\n",
       "      <td>1.000000</td>\n",
       "      <td>68.609995</td>\n",
       "      <td>9.000000</td>\n",
       "      <td>0.199354</td>\n",
       "      <td>27.160832</td>\n",
       "      <td>0.000000</td>\n",
       "      <td>297.250000</td>\n",
       "    </tr>\n",
       "    <tr>\n",
       "      <th>50%</th>\n",
       "      <td>4.525831</td>\n",
       "      <td>4.000000</td>\n",
       "      <td>4.000000</td>\n",
       "      <td>77.113750</td>\n",
       "      <td>11.000000</td>\n",
       "      <td>0.580076</td>\n",
       "      <td>54.749995</td>\n",
       "      <td>1.000000</td>\n",
       "      <td>595.500000</td>\n",
       "    </tr>\n",
       "    <tr>\n",
       "      <th>75%</th>\n",
       "      <td>4.810758</td>\n",
       "      <td>8.000000</td>\n",
       "      <td>7.000000</td>\n",
       "      <td>82.838060</td>\n",
       "      <td>24.000000</td>\n",
       "      <td>1.257965</td>\n",
       "      <td>98.817845</td>\n",
       "      <td>1.000000</td>\n",
       "      <td>892.750000</td>\n",
       "    </tr>\n",
       "    <tr>\n",
       "      <th>max</th>\n",
       "      <td>5.110679</td>\n",
       "      <td>12.000000</td>\n",
       "      <td>17.000000</td>\n",
       "      <td>96.931760</td>\n",
       "      <td>28.000000</td>\n",
       "      <td>3.200019</td>\n",
       "      <td>100.000000</td>\n",
       "      <td>1.000000</td>\n",
       "      <td>1191.000000</td>\n",
       "    </tr>\n",
       "  </tbody>\n",
       "</table>\n",
       "</div>"
      ],
      "text/plain": [
       "       training_score  logical_score  verbal_score  avg_literacy  \\\n",
       "count     1186.000000    1186.000000   1186.000000   1186.000000   \n",
       "mean         4.396676       4.465430      4.650927     75.685801   \n",
       "std          0.541748       3.926442      4.438372      9.267688   \n",
       "min          2.688673      -5.000000     -7.000000     49.354540   \n",
       "25%          4.181925       1.000000      1.000000     68.609995   \n",
       "50%          4.525831       4.000000      4.000000     77.113750   \n",
       "75%          4.810758       8.000000      7.000000     82.838060   \n",
       "max          5.110679      12.000000     17.000000     96.931760   \n",
       "\n",
       "       location_age     distance  similar_language      is_male       emp_id  \n",
       "count   1186.000000  1186.000000       1186.000000  1186.000000  1186.000000  \n",
       "mean      15.258010     0.817418         59.563997     0.566610   595.596965  \n",
       "std        7.933641     0.751528         35.323193     0.495752   344.228100  \n",
       "min        2.000000     0.000000          1.250000     0.000000     1.000000  \n",
       "25%        9.000000     0.199354         27.160832     0.000000   297.250000  \n",
       "50%       11.000000     0.580076         54.749995     1.000000   595.500000  \n",
       "75%       24.000000     1.257965         98.817845     1.000000   892.750000  \n",
       "max       28.000000     3.200019        100.000000     1.000000  1191.000000  "
      ]
     },
     "execution_count": 65,
     "metadata": {},
     "output_type": "execute_result"
    }
   ],
   "source": [
    "df_small.describe()"
   ]
  },
  {
   "cell_type": "code",
   "execution_count": 57,
   "metadata": {},
   "outputs": [
    {
     "data": {
      "text/html": [
       "<div>\n",
       "<style scoped>\n",
       "    .dataframe tbody tr th:only-of-type {\n",
       "        vertical-align: middle;\n",
       "    }\n",
       "\n",
       "    .dataframe tbody tr th {\n",
       "        vertical-align: top;\n",
       "    }\n",
       "\n",
       "    .dataframe thead th {\n",
       "        text-align: right;\n",
       "    }\n",
       "</style>\n",
       "<table border=\"1\" class=\"dataframe\">\n",
       "  <thead>\n",
       "    <tr style=\"text-align: right;\">\n",
       "      <th></th>\n",
       "      <th>training_score</th>\n",
       "      <th>logical_score</th>\n",
       "      <th>verbal_score</th>\n",
       "      <th>avg_literacy</th>\n",
       "      <th>location_age</th>\n",
       "      <th>distance</th>\n",
       "      <th>similar_language</th>\n",
       "      <th>is_male</th>\n",
       "      <th>emp_id</th>\n",
       "      <th>turnover</th>\n",
       "    </tr>\n",
       "  </thead>\n",
       "  <tbody>\n",
       "    <tr>\n",
       "      <th>0</th>\n",
       "      <td>4.840446</td>\n",
       "      <td>5</td>\n",
       "      <td>2</td>\n",
       "      <td>81.05207</td>\n",
       "      <td>6</td>\n",
       "      <td>1.635494</td>\n",
       "      <td>24.11053</td>\n",
       "      <td>1</td>\n",
       "      <td>1</td>\n",
       "      <td>Stayed</td>\n",
       "    </tr>\n",
       "    <tr>\n",
       "      <th>39</th>\n",
       "      <td>4.355449</td>\n",
       "      <td>0</td>\n",
       "      <td>8</td>\n",
       "      <td>93.72386</td>\n",
       "      <td>3</td>\n",
       "      <td>0.234684</td>\n",
       "      <td>96.08640</td>\n",
       "      <td>1</td>\n",
       "      <td>2</td>\n",
       "      <td>Stayed</td>\n",
       "    </tr>\n",
       "    <tr>\n",
       "      <th>73</th>\n",
       "      <td>4.416302</td>\n",
       "      <td>3</td>\n",
       "      <td>2</td>\n",
       "      <td>66.49519</td>\n",
       "      <td>6</td>\n",
       "      <td>0.673065</td>\n",
       "      <td>100.00000</td>\n",
       "      <td>1</td>\n",
       "      <td>3</td>\n",
       "      <td>Stayed</td>\n",
       "    </tr>\n",
       "    <tr>\n",
       "      <th>110</th>\n",
       "      <td>4.995522</td>\n",
       "      <td>11</td>\n",
       "      <td>3</td>\n",
       "      <td>87.05980</td>\n",
       "      <td>13</td>\n",
       "      <td>0.232718</td>\n",
       "      <td>93.20673</td>\n",
       "      <td>1</td>\n",
       "      <td>4</td>\n",
       "      <td>Stayed</td>\n",
       "    </tr>\n",
       "    <tr>\n",
       "      <th>144</th>\n",
       "      <td>4.531571</td>\n",
       "      <td>1</td>\n",
       "      <td>0</td>\n",
       "      <td>77.78675</td>\n",
       "      <td>24</td>\n",
       "      <td>2.333878</td>\n",
       "      <td>23.03190</td>\n",
       "      <td>0</td>\n",
       "      <td>5</td>\n",
       "      <td>Stayed</td>\n",
       "    </tr>\n",
       "  </tbody>\n",
       "</table>\n",
       "</div>"
      ],
      "text/plain": [
       "     training_score  logical_score  verbal_score  avg_literacy  location_age  \\\n",
       "0          4.840446              5             2      81.05207             6   \n",
       "39         4.355449              0             8      93.72386             3   \n",
       "73         4.416302              3             2      66.49519             6   \n",
       "110        4.995522             11             3      87.05980            13   \n",
       "144        4.531571              1             0      77.78675            24   \n",
       "\n",
       "     distance  similar_language  is_male  emp_id turnover  \n",
       "0    1.635494          24.11053        1       1   Stayed  \n",
       "39   0.234684          96.08640        1       2   Stayed  \n",
       "73   0.673065         100.00000        1       3   Stayed  \n",
       "110  0.232718          93.20673        1       4   Stayed  \n",
       "144  2.333878          23.03190        0       5   Stayed  "
      ]
     },
     "execution_count": 57,
     "metadata": {},
     "output_type": "execute_result"
    }
   ],
   "source": [
    "df_small.head()"
   ]
  },
  {
   "cell_type": "code",
   "execution_count": 58,
   "metadata": {},
   "outputs": [],
   "source": [
    "from sklearn.model_selection import train_test_split"
   ]
  },
  {
   "cell_type": "code",
   "execution_count": 59,
   "metadata": {},
   "outputs": [],
   "source": [
    "X = df_small.drop(columns=\"turnover\")"
   ]
  },
  {
   "cell_type": "code",
   "execution_count": 66,
   "metadata": {},
   "outputs": [
    {
     "data": {
      "text/plain": [
       "1        0\n",
       "40       0\n",
       "74       0\n",
       "111      0\n",
       "145      0\n",
       "        ..\n",
       "34307    0\n",
       "34341    0\n",
       "34380    0\n",
       "34409    0\n",
       "34415    0\n",
       "Name: turnover, Length: 1186, dtype: object"
      ]
     },
     "execution_count": 66,
     "metadata": {},
     "output_type": "execute_result"
    }
   ],
   "source": [
    "df_small.loc[df['turnover']=='Stayed', 'turnover'] = 0\n",
    "df_small.loc[df['turnover']=='Left', 'turnover'] = 1\n",
    "df_small.turnover"
   ]
  },
  {
   "cell_type": "code",
   "execution_count": 67,
   "metadata": {},
   "outputs": [],
   "source": [
    "y = df_small.turnover"
   ]
  },
  {
   "cell_type": "code",
   "execution_count": 36,
   "metadata": {},
   "outputs": [],
   "source": [
    "X_train, X_test, y_train, y_test = train_test_split(X, y, test_size=0.7, random_state=181)"
   ]
  },
  {
   "cell_type": "code",
   "execution_count": 37,
   "metadata": {},
   "outputs": [],
   "source": [
    "from sklearn.tree import DecisionTreeClassifier"
   ]
  },
  {
   "cell_type": "code",
   "execution_count": 38,
   "metadata": {},
   "outputs": [],
   "source": [
    "from sklearn.model_selection import GridSearchCV"
   ]
  },
  {
   "cell_type": "code",
   "execution_count": 41,
   "metadata": {},
   "outputs": [],
   "source": [
    "param_grid = {'max_depth': np.arange(1,100)}\n",
    "clf_cv = GridSearchCV(DecisionTreeClassifier(), param_grid, cv=5).fit(X,y)"
   ]
  },
  {
   "cell_type": "code",
   "execution_count": 43,
   "metadata": {},
   "outputs": [
    {
     "data": {
      "text/plain": [
       "DecisionTreeClassifier(max_depth=1)"
      ]
     },
     "execution_count": 43,
     "metadata": {},
     "output_type": "execute_result"
    }
   ],
   "source": [
    "clf_cv.best_estimator_"
   ]
  },
  {
   "cell_type": "code",
   "execution_count": 45,
   "metadata": {},
   "outputs": [
    {
     "data": {
      "text/plain": [
       "['training_score',\n",
       " 'logical_score',\n",
       " 'verbal_score',\n",
       " 'avg_literacy',\n",
       " 'location_age',\n",
       " 'distance',\n",
       " 'similar_language',\n",
       " 'is_male',\n",
       " 'emp_id']"
      ]
     },
     "execution_count": 45,
     "metadata": {},
     "output_type": "execute_result"
    }
   ],
   "source": [
    "list(X_train.columns)"
   ]
  },
  {
   "cell_type": "code",
   "execution_count": 47,
   "metadata": {},
   "outputs": [
    {
     "data": {
      "image/png": "[encoded data removed]",
      "text/plain": [
       "<Figure size 1296x1296 with 1 Axes>"
      ]
     },
     "metadata": {
      "needs_background": "light"
     },
     "output_type": "display_data"
    }
   ],
   "source": [
    "from sklearn import tree\n",
    "fig, ax = plt.subplots(figsize=(18, 18))\n",
    "tree.plot_tree(clf_cv.best_estimator_, feature_names=list(X_train.columns), fontsize=12,\n",
    "              class_names=['no', 'yes']);"
   ]
  },
  {
   "cell_type": "code",
   "execution_count": 48,
   "metadata": {},
   "outputs": [
    {
     "data": {
      "text/plain": [
       "0.9958018353785029"
      ]
     },
     "execution_count": 48,
     "metadata": {},
     "output_type": "execute_result"
    }
   ],
   "source": [
    "clf_cv.best_score_"
   ]
  },
  {
   "cell_type": "code",
   "execution_count": 53,
   "metadata": {},
   "outputs": [
    {
     "data": {
      "text/plain": [
       "2"
      ]
     },
     "execution_count": 53,
     "metadata": {},
     "output_type": "execute_result"
    }
   ],
   "source": [
    "y.nunique()"
   ]
  },
  {
   "cell_type": "code",
   "execution_count": 68,
   "metadata": {},
   "outputs": [
    {
     "data": {
      "text/plain": [
       "0.006745362563237774"
      ]
     },
     "execution_count": 68,
     "metadata": {},
     "output_type": "execute_result"
    }
   ],
   "source": [
    "np.mean(y)"
   ]
  },
  {
   "cell_type": "code",
   "execution_count": null,
   "metadata": {},
   "outputs": [],
   "source": []
  }
 ],
 "metadata": {
  "kernelspec": {
   "display_name": "eemp2020",
   "language": "python",
   "name": "eemp2020"
  },
  "language_info": {
   "codemirror_mode": {
    "name": "ipython",
    "version": 3
   },
   "file_extension": ".py",
   "mimetype": "text/x-python",
   "name": "python",
   "nbconvert_exporter": "python",
   "pygments_lexer": "ipython3",
   "version": "3.7.9"
  }
 },
 "nbformat": 4,
 "nbformat_minor": 4
}
